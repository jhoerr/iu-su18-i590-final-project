{
 "cells": [
  {
   "cell_type": "code",
   "execution_count": 68,
   "metadata": {},
   "outputs": [],
   "source": [
    "import pandas as pd"
   ]
  },
  {
   "cell_type": "markdown",
   "metadata": {},
   "source": [
    "Our dataset comes from the freely available [Animal Care and Control Adopted Animals](https://data.bloomington.in.gov/dataset/adopted-animals) dataset published by the city of Bloomington, IN."
   ]
  },
  {
   "cell_type": "code",
   "execution_count": 93,
   "metadata": {},
   "outputs": [
    {
     "data": {
      "text/html": [
       "<div>\n",
       "<style scoped>\n",
       "    .dataframe tbody tr th:only-of-type {\n",
       "        vertical-align: middle;\n",
       "    }\n",
       "\n",
       "    .dataframe tbody tr th {\n",
       "        vertical-align: top;\n",
       "    }\n",
       "\n",
       "    .dataframe thead th {\n",
       "        text-align: right;\n",
       "    }\n",
       "</style>\n",
       "<table border=\"1\" class=\"dataframe\">\n",
       "  <thead>\n",
       "    <tr style=\"text-align: right;\">\n",
       "      <th></th>\n",
       "      <th>id</th>\n",
       "      <th>intakedate</th>\n",
       "      <th>intakereason</th>\n",
       "      <th>istransfer</th>\n",
       "      <th>sheltercode</th>\n",
       "      <th>identichipnumber</th>\n",
       "      <th>animalname</th>\n",
       "      <th>breedname</th>\n",
       "      <th>basecolour</th>\n",
       "      <th>speciesname</th>\n",
       "      <th>...</th>\n",
       "      <th>movementdate</th>\n",
       "      <th>movementtype</th>\n",
       "      <th>istrial</th>\n",
       "      <th>returndate</th>\n",
       "      <th>returnedreason</th>\n",
       "      <th>deceaseddate</th>\n",
       "      <th>deceasedreason</th>\n",
       "      <th>diedoffshelter</th>\n",
       "      <th>puttosleep</th>\n",
       "      <th>isdoa</th>\n",
       "    </tr>\n",
       "  </thead>\n",
       "  <tbody>\n",
       "    <tr>\n",
       "      <th>0</th>\n",
       "      <td>15801</td>\n",
       "      <td>2009-11-28 00:00:00</td>\n",
       "      <td>Moving</td>\n",
       "      <td>0</td>\n",
       "      <td>C09115463</td>\n",
       "      <td>0A115D7358</td>\n",
       "      <td>Jadzia</td>\n",
       "      <td>Domestic Short Hair</td>\n",
       "      <td>Tortie</td>\n",
       "      <td>Cat</td>\n",
       "      <td>...</td>\n",
       "      <td>2017-05-13 00:00:00</td>\n",
       "      <td>Adoption</td>\n",
       "      <td>0.0</td>\n",
       "      <td>NaN</td>\n",
       "      <td>Stray</td>\n",
       "      <td>NaN</td>\n",
       "      <td>Died in care</td>\n",
       "      <td>0</td>\n",
       "      <td>0</td>\n",
       "      <td>0</td>\n",
       "    </tr>\n",
       "    <tr>\n",
       "      <th>1</th>\n",
       "      <td>15932</td>\n",
       "      <td>2009-12-08 00:00:00</td>\n",
       "      <td>Moving</td>\n",
       "      <td>0</td>\n",
       "      <td>D09125594</td>\n",
       "      <td>0A11675477</td>\n",
       "      <td>Gonzo</td>\n",
       "      <td>German Shepherd Dog/Mix</td>\n",
       "      <td>Tan</td>\n",
       "      <td>Dog</td>\n",
       "      <td>...</td>\n",
       "      <td>2017-04-24 00:00:00</td>\n",
       "      <td>Adoption</td>\n",
       "      <td>0.0</td>\n",
       "      <td>NaN</td>\n",
       "      <td>Stray</td>\n",
       "      <td>NaN</td>\n",
       "      <td>Died in care</td>\n",
       "      <td>0</td>\n",
       "      <td>0</td>\n",
       "      <td>0</td>\n",
       "    </tr>\n",
       "    <tr>\n",
       "      <th>2</th>\n",
       "      <td>28859</td>\n",
       "      <td>2012-08-10 00:00:00</td>\n",
       "      <td>Abandoned</td>\n",
       "      <td>0</td>\n",
       "      <td>D12082309</td>\n",
       "      <td>0A13253C7B</td>\n",
       "      <td>Maggie</td>\n",
       "      <td>Shep Mix/Siberian Husky</td>\n",
       "      <td>Various</td>\n",
       "      <td>Dog</td>\n",
       "      <td>...</td>\n",
       "      <td>2017-04-15 00:00:00</td>\n",
       "      <td>Adoption</td>\n",
       "      <td>0.0</td>\n",
       "      <td>NaN</td>\n",
       "      <td>Stray</td>\n",
       "      <td>NaN</td>\n",
       "      <td>Died in care</td>\n",
       "      <td>0</td>\n",
       "      <td>0</td>\n",
       "      <td>0</td>\n",
       "    </tr>\n",
       "    <tr>\n",
       "      <th>3</th>\n",
       "      <td>30812</td>\n",
       "      <td>2013-01-11 00:00:00</td>\n",
       "      <td>Abandoned</td>\n",
       "      <td>0</td>\n",
       "      <td>C1301091</td>\n",
       "      <td>0A13403D4D</td>\n",
       "      <td>Pretty Girl</td>\n",
       "      <td>Domestic Short Hair</td>\n",
       "      <td>Dilute tortoiseshell</td>\n",
       "      <td>Cat</td>\n",
       "      <td>...</td>\n",
       "      <td>2017-04-18 00:00:00</td>\n",
       "      <td>Foster</td>\n",
       "      <td>0.0</td>\n",
       "      <td>NaN</td>\n",
       "      <td>Stray</td>\n",
       "      <td>NaN</td>\n",
       "      <td>Died in care</td>\n",
       "      <td>0</td>\n",
       "      <td>0</td>\n",
       "      <td>0</td>\n",
       "    </tr>\n",
       "    <tr>\n",
       "      <th>4</th>\n",
       "      <td>31469</td>\n",
       "      <td>2013-03-26 00:00:00</td>\n",
       "      <td>Incompatible</td>\n",
       "      <td>0</td>\n",
       "      <td>D1303720</td>\n",
       "      <td>981020007006095</td>\n",
       "      <td>Bonnie</td>\n",
       "      <td>Basenji/Mix</td>\n",
       "      <td>Brown and White</td>\n",
       "      <td>Dog</td>\n",
       "      <td>...</td>\n",
       "      <td>2013-03-30 00:00:00</td>\n",
       "      <td>Adoption</td>\n",
       "      <td>0.0</td>\n",
       "      <td>2017-05-08 00:00:00</td>\n",
       "      <td>Incompatible</td>\n",
       "      <td>NaN</td>\n",
       "      <td>Died in care</td>\n",
       "      <td>0</td>\n",
       "      <td>0</td>\n",
       "      <td>0</td>\n",
       "    </tr>\n",
       "  </tbody>\n",
       "</table>\n",
       "<p>5 rows × 23 columns</p>\n",
       "</div>"
      ],
      "text/plain": [
       "      id           intakedate  intakereason  istransfer sheltercode  \\\n",
       "0  15801  2009-11-28 00:00:00        Moving           0   C09115463   \n",
       "1  15932  2009-12-08 00:00:00        Moving           0   D09125594   \n",
       "2  28859  2012-08-10 00:00:00     Abandoned           0   D12082309   \n",
       "3  30812  2013-01-11 00:00:00     Abandoned           0    C1301091   \n",
       "4  31469  2013-03-26 00:00:00  Incompatible           0    D1303720   \n",
       "\n",
       "  identichipnumber   animalname                breedname  \\\n",
       "0       0A115D7358       Jadzia      Domestic Short Hair   \n",
       "1       0A11675477        Gonzo  German Shepherd Dog/Mix   \n",
       "2       0A13253C7B       Maggie  Shep Mix/Siberian Husky   \n",
       "3       0A13403D4D  Pretty Girl      Domestic Short Hair   \n",
       "4  981020007006095       Bonnie              Basenji/Mix   \n",
       "\n",
       "             basecolour speciesname  ...          movementdate movementtype  \\\n",
       "0                Tortie         Cat  ...   2017-05-13 00:00:00     Adoption   \n",
       "1                   Tan         Dog  ...   2017-04-24 00:00:00     Adoption   \n",
       "2               Various         Dog  ...   2017-04-15 00:00:00     Adoption   \n",
       "3  Dilute tortoiseshell         Cat  ...   2017-04-18 00:00:00       Foster   \n",
       "4       Brown and White         Dog  ...   2013-03-30 00:00:00     Adoption   \n",
       "\n",
       "  istrial           returndate returnedreason  deceaseddate deceasedreason  \\\n",
       "0     0.0                  NaN          Stray           NaN   Died in care   \n",
       "1     0.0                  NaN          Stray           NaN   Died in care   \n",
       "2     0.0                  NaN          Stray           NaN   Died in care   \n",
       "3     0.0                  NaN          Stray           NaN   Died in care   \n",
       "4     0.0  2017-05-08 00:00:00   Incompatible           NaN   Died in care   \n",
       "\n",
       "  diedoffshelter puttosleep isdoa  \n",
       "0              0          0     0  \n",
       "1              0          0     0  \n",
       "2              0          0     0  \n",
       "3              0          0     0  \n",
       "4              0          0     0  \n",
       "\n",
       "[5 rows x 23 columns]"
      ]
     },
     "execution_count": 93,
     "metadata": {},
     "output_type": "execute_result"
    }
   ],
   "source": [
    "dataurl = 'https://data.bloomington.in.gov/dataset/94d3f457-57b5-45be-bee0-a0106f59b7ed/resource/8854ce02-e8f5-44b9-b85f-17f002a7d023/download/8854ce02-e8f5-44b9-b85f-17f002a7d023.csv'\n",
    "df = pd.read_csv(dataurl)\n",
    "df.head()"
   ]
  },
  {
   "cell_type": "markdown",
   "metadata": {},
   "source": [
    "'Misty' and 'Wallaby' are the shelter names of two kittens that John adopted on 7/29/17. We can decipher some of these columns by looking at Misty's record. "
   ]
  },
  {
   "cell_type": "code",
   "execution_count": 90,
   "metadata": {},
   "outputs": [
    {
     "data": {
      "text/plain": [
       "{'id': {1615: 56615},\n",
       " 'intakedate': {1615: '2017-07-14 13:01:34'},\n",
       " 'intakereason': {1615: 'Litter relinquishment'},\n",
       " 'istransfer': {1615: 0},\n",
       " 'sheltercode': {1615: 'C1707739'},\n",
       " 'identichipnumber': {1615: '981020021056684'},\n",
       " 'animalname': {1615: 'Misty'},\n",
       " 'breedname': {1615: 'Domestic Short Hair'},\n",
       " 'basecolour': {1615: 'Buff'},\n",
       " 'speciesname': {1615: 'Cat'},\n",
       " 'animalage': {1615: '11 months.'},\n",
       " 'sexname': {1615: 'Female'},\n",
       " 'location': {1615: 'Lobby'},\n",
       " 'movementdate': {1615: '2017-07-29 00:00:00'},\n",
       " 'movementtype': {1615: 'Adoption'},\n",
       " 'istrial': {1615: 0.0},\n",
       " 'returndate': {1615: nan},\n",
       " 'returnedreason': {1615: 'Stray'},\n",
       " 'deceaseddate': {1615: nan},\n",
       " 'deceasedreason': {1615: 'Court Order/ Legal'},\n",
       " 'diedoffshelter': {1615: 0},\n",
       " 'puttosleep': {1615: 0},\n",
       " 'isdoa': {1615: 0}}"
      ]
     },
     "execution_count": 90,
     "metadata": {},
     "output_type": "execute_result"
    }
   ],
   "source": [
    "misty = df[df['animalname']==\"Misty\"]\n",
    "misty.to_dict()"
   ]
  },
  {
   "cell_type": "markdown",
   "metadata": {},
   "source": [
    "From this we can infer the following field descriptions:  \n",
    "\n",
    "| label | description |\n",
    "| ----- | ----------- |\n",
    "| intakereason | Why the animal came to the shelter |\n",
    "| movementtype | The animal's eventual outcome |\n",
    "\n",
    "Let's look at the unique values for these fields to learn more about how animals come to and leave the shelter."
   ]
  },
  {
   "cell_type": "code",
   "execution_count": 91,
   "metadata": {},
   "outputs": [
    {
     "name": "stdout",
     "output_type": "stream",
     "text": [
      "Intake Reasons:\n",
      "Stray                          1929\n",
      "Incompatible                    722\n",
      "Litter relinquishment           270\n",
      "Abandoned                       266\n",
      "Moving                          209\n",
      "Unsuitable Accomodation          99\n",
      "Transfer from Other Shelter      94\n",
      "Police Assist                    78\n",
      "Born in Shelter                  71\n",
      "Owner Deceased                   64\n",
      "Landlord issues                  56\n",
      "Unable to Afford                 55\n",
      "Sick/Injured                     53\n",
      "Allergies                        36\n",
      "Biting                           30\n",
      "Marriage/Relationship split      27\n",
      "Owner Died                       26\n",
      "TNR - Trap/Neuter/Release        17\n",
      "Rabies Monitoring                16\n",
      "Injured Wildlife                  8\n",
      "Owner requested Euthanasia        3\n",
      "Name: intakereason, dtype: int64\n",
      "\n"
     ]
    }
   ],
   "source": [
    "print(f\"Intake Reasons:\\n{df.intakereason.value_counts()}\\n\")"
   ]
  },
  {
   "cell_type": "markdown",
   "metadata": {},
   "source": [
    "Animals can come to the shelter for a variety of reasons, with the majority being strays and most of the remainder being given up by their owner."
   ]
  },
  {
   "cell_type": "code",
   "execution_count": 92,
   "metadata": {},
   "outputs": [
    {
     "name": "stdout",
     "output_type": "stream",
     "text": [
      "Movement Types:\n",
      "Adoption            2352\n",
      "Foster               906\n",
      "Reclaimed            625\n",
      "Transfer             243\n",
      "Released To Wild       2\n",
      "Stolen                 2\n",
      "None                   1\n",
      "Name: movementtype, dtype: int64\n",
      "\n"
     ]
    }
   ],
   "source": [
    "print(f\"Movement Types:\\n{df.movementtype.value_counts()}\\n\")"
   ]
  },
  {
   "cell_type": "code",
   "execution_count": null,
   "metadata": {},
   "outputs": [],
   "source": [
    "Most animals that make it out of the shelter are adopted (yay!) or reclaimed by their owner. "
   ]
  },
  {
   "cell_type": "markdown",
   "metadata": {},
   "source": [
    "*returnedreason* is still a mystery because as far as we know she wasn't a stray. *deceasedreason* is also a mystery because it neither makes sense nor is it particularly true as she is not deceased. Perhaps the deceasedreason is a field that has particular meaning when the animal has died -- maybe in conjunction with *deceaseddate*, *diedoffshelter*, *puttosleep*, and *isdoa* -- and another meaning when the animal is still alive. \n",
    "\n"
   ]
  },
  {
   "cell_type": "code",
   "execution_count": null,
   "metadata": {},
   "outputs": [],
   "source": []
  }
 ],
 "metadata": {
  "kernelspec": {
   "display_name": "Python 3",
   "language": "python",
   "name": "python3"
  },
  "language_info": {
   "codemirror_mode": {
    "name": "ipython",
    "version": 3
   },
   "file_extension": ".py",
   "mimetype": "text/x-python",
   "name": "python",
   "nbconvert_exporter": "python",
   "pygments_lexer": "ipython3",
   "version": "3.6.5"
  }
 },
 "nbformat": 4,
 "nbformat_minor": 2
}
