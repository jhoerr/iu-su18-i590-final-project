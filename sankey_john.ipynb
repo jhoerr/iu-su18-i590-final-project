{
 "cells": [
  {
   "cell_type": "code",
   "execution_count": 182,
   "metadata": {},
   "outputs": [
    {
     "data": {
      "text/plain": [
       "RendererRegistry.enable('notebook')"
      ]
     },
     "execution_count": 182,
     "metadata": {},
     "output_type": "execute_result"
    }
   ],
   "source": [
    "import sys     \n",
    "import math\n",
    "import datetime\n",
    "import calendar\n",
    "import os                            \n",
    "import pandas as pd                  \n",
    "import matplotlib.pyplot as plt      \n",
    "import seaborn as sns     \n",
    "import altair as alt\n",
    "%matplotlib inline\n",
    "# jupyter notebook needs this option.\n",
    "alt.renderers.enable('notebook')"
   ]
  },
  {
   "cell_type": "code",
   "execution_count": 183,
   "metadata": {},
   "outputs": [
    {
     "data": {
      "text/html": [
       "<div>\n",
       "<style scoped>\n",
       "    .dataframe tbody tr th:only-of-type {\n",
       "        vertical-align: middle;\n",
       "    }\n",
       "\n",
       "    .dataframe tbody tr th {\n",
       "        vertical-align: top;\n",
       "    }\n",
       "\n",
       "    .dataframe thead th {\n",
       "        text-align: right;\n",
       "    }\n",
       "</style>\n",
       "<table border=\"1\" class=\"dataframe\">\n",
       "  <thead>\n",
       "    <tr style=\"text-align: right;\">\n",
       "      <th></th>\n",
       "      <th>id</th>\n",
       "      <th>intakereason</th>\n",
       "      <th>istransfer</th>\n",
       "      <th>animalname</th>\n",
       "      <th>speciesname</th>\n",
       "      <th>movementtype</th>\n",
       "      <th>istrial</th>\n",
       "      <th>returnedreason</th>\n",
       "      <th>deceaseddate</th>\n",
       "      <th>puttosleep</th>\n",
       "    </tr>\n",
       "  </thead>\n",
       "  <tbody>\n",
       "    <tr>\n",
       "      <th>0</th>\n",
       "      <td>15801</td>\n",
       "      <td>Moving</td>\n",
       "      <td>0</td>\n",
       "      <td>Jadzia</td>\n",
       "      <td>Cat</td>\n",
       "      <td>Adoption</td>\n",
       "      <td>0.0</td>\n",
       "      <td>Stray</td>\n",
       "      <td>NaN</td>\n",
       "      <td>0</td>\n",
       "    </tr>\n",
       "    <tr>\n",
       "      <th>1</th>\n",
       "      <td>15932</td>\n",
       "      <td>Moving</td>\n",
       "      <td>0</td>\n",
       "      <td>Gonzo</td>\n",
       "      <td>Dog</td>\n",
       "      <td>Adoption</td>\n",
       "      <td>0.0</td>\n",
       "      <td>Stray</td>\n",
       "      <td>NaN</td>\n",
       "      <td>0</td>\n",
       "    </tr>\n",
       "    <tr>\n",
       "      <th>2</th>\n",
       "      <td>28859</td>\n",
       "      <td>Abandoned</td>\n",
       "      <td>0</td>\n",
       "      <td>Maggie</td>\n",
       "      <td>Dog</td>\n",
       "      <td>Adoption</td>\n",
       "      <td>0.0</td>\n",
       "      <td>Stray</td>\n",
       "      <td>NaN</td>\n",
       "      <td>0</td>\n",
       "    </tr>\n",
       "    <tr>\n",
       "      <th>3</th>\n",
       "      <td>30812</td>\n",
       "      <td>Abandoned</td>\n",
       "      <td>0</td>\n",
       "      <td>Pretty Girl</td>\n",
       "      <td>Cat</td>\n",
       "      <td>Foster</td>\n",
       "      <td>0.0</td>\n",
       "      <td>Stray</td>\n",
       "      <td>NaN</td>\n",
       "      <td>0</td>\n",
       "    </tr>\n",
       "    <tr>\n",
       "      <th>4</th>\n",
       "      <td>31469</td>\n",
       "      <td>Incompatible</td>\n",
       "      <td>0</td>\n",
       "      <td>Bonnie</td>\n",
       "      <td>Dog</td>\n",
       "      <td>Adoption</td>\n",
       "      <td>0.0</td>\n",
       "      <td>Incompatible</td>\n",
       "      <td>NaN</td>\n",
       "      <td>0</td>\n",
       "    </tr>\n",
       "  </tbody>\n",
       "</table>\n",
       "</div>"
      ],
      "text/plain": [
       "      id  intakereason  istransfer   animalname speciesname movementtype  \\\n",
       "0  15801        Moving           0       Jadzia         Cat     Adoption   \n",
       "1  15932        Moving           0        Gonzo         Dog     Adoption   \n",
       "2  28859     Abandoned           0       Maggie         Dog     Adoption   \n",
       "3  30812     Abandoned           0  Pretty Girl         Cat       Foster   \n",
       "4  31469  Incompatible           0       Bonnie         Dog     Adoption   \n",
       "\n",
       "   istrial returnedreason deceaseddate  puttosleep  \n",
       "0      0.0          Stray          NaN           0  \n",
       "1      0.0          Stray          NaN           0  \n",
       "2      0.0          Stray          NaN           0  \n",
       "3      0.0          Stray          NaN           0  \n",
       "4      0.0   Incompatible          NaN           0  "
      ]
     },
     "execution_count": 183,
     "metadata": {},
     "output_type": "execute_result"
    }
   ],
   "source": [
    "dataurl = 'https://data.bloomington.in.gov/dataset/94d3f457-57b5-45be-bee0-a0106f59b7ed/resource/8854ce02-e8f5-44b9-b85f-17f002a7d023/download/8854ce02-e8f5-44b9-b85f-17f002a7d023.csv'\n",
    "df = pd.read_csv(dataurl)\n",
    "# Drop the \n",
    "df = df.drop(labels=[\n",
    "    'intakedate', \n",
    "    'sheltercode', \n",
    "    'identichipnumber', \n",
    "    'breedname', \n",
    "    'basecolour', \n",
    "    'animalage', \n",
    "    'sexname',\n",
    "    'location',\n",
    "    'movementdate',\n",
    "    'returndate',\n",
    "    'deceasedreason',\n",
    "    'diedoffshelter',\n",
    "    'isdoa'], axis=1)\n",
    "df.head()"
   ]
  },
  {
   "cell_type": "markdown",
   "metadata": {},
   "source": [
    "For the next step we need to map out each animal's movement through the shelter. Some animals will have multiple records corresponding to a sequence of movements through the shelter. For example, a cat called 'Independence' was brought to the shelter as a stray, fostered twice, adopted, subsequently returned because the owner couldn't afford her, and finally adopted once more."
   ]
  },
  {
   "cell_type": "code",
   "execution_count": 184,
   "metadata": {},
   "outputs": [
    {
     "data": {
      "text/html": [
       "<div>\n",
       "<style scoped>\n",
       "    .dataframe tbody tr th:only-of-type {\n",
       "        vertical-align: middle;\n",
       "    }\n",
       "\n",
       "    .dataframe tbody tr th {\n",
       "        vertical-align: top;\n",
       "    }\n",
       "\n",
       "    .dataframe thead th {\n",
       "        text-align: right;\n",
       "    }\n",
       "</style>\n",
       "<table border=\"1\" class=\"dataframe\">\n",
       "  <thead>\n",
       "    <tr style=\"text-align: right;\">\n",
       "      <th></th>\n",
       "      <th>id</th>\n",
       "      <th>intakereason</th>\n",
       "      <th>istransfer</th>\n",
       "      <th>animalname</th>\n",
       "      <th>speciesname</th>\n",
       "      <th>movementtype</th>\n",
       "      <th>istrial</th>\n",
       "      <th>returnedreason</th>\n",
       "      <th>deceaseddate</th>\n",
       "      <th>puttosleep</th>\n",
       "    </tr>\n",
       "  </thead>\n",
       "  <tbody>\n",
       "    <tr>\n",
       "      <th>1430</th>\n",
       "      <td>56475</td>\n",
       "      <td>Stray</td>\n",
       "      <td>0</td>\n",
       "      <td>Independence</td>\n",
       "      <td>Cat</td>\n",
       "      <td>Foster</td>\n",
       "      <td>0.0</td>\n",
       "      <td>Stray</td>\n",
       "      <td>NaN</td>\n",
       "      <td>0</td>\n",
       "    </tr>\n",
       "    <tr>\n",
       "      <th>1431</th>\n",
       "      <td>56475</td>\n",
       "      <td>Stray</td>\n",
       "      <td>0</td>\n",
       "      <td>Independence</td>\n",
       "      <td>Cat</td>\n",
       "      <td>Foster</td>\n",
       "      <td>0.0</td>\n",
       "      <td>Stray</td>\n",
       "      <td>NaN</td>\n",
       "      <td>0</td>\n",
       "    </tr>\n",
       "    <tr>\n",
       "      <th>1432</th>\n",
       "      <td>56475</td>\n",
       "      <td>Stray</td>\n",
       "      <td>0</td>\n",
       "      <td>Independence</td>\n",
       "      <td>Cat</td>\n",
       "      <td>Adoption</td>\n",
       "      <td>0.0</td>\n",
       "      <td>Unable to Afford</td>\n",
       "      <td>NaN</td>\n",
       "      <td>0</td>\n",
       "    </tr>\n",
       "    <tr>\n",
       "      <th>1433</th>\n",
       "      <td>56475</td>\n",
       "      <td>Stray</td>\n",
       "      <td>0</td>\n",
       "      <td>Independence</td>\n",
       "      <td>Cat</td>\n",
       "      <td>Adoption</td>\n",
       "      <td>0.0</td>\n",
       "      <td>Stray</td>\n",
       "      <td>NaN</td>\n",
       "      <td>0</td>\n",
       "    </tr>\n",
       "  </tbody>\n",
       "</table>\n",
       "</div>"
      ],
      "text/plain": [
       "         id intakereason  istransfer    animalname speciesname movementtype  \\\n",
       "1430  56475        Stray           0  Independence         Cat       Foster   \n",
       "1431  56475        Stray           0  Independence         Cat       Foster   \n",
       "1432  56475        Stray           0  Independence         Cat     Adoption   \n",
       "1433  56475        Stray           0  Independence         Cat     Adoption   \n",
       "\n",
       "      istrial    returnedreason deceaseddate  puttosleep  \n",
       "1430      0.0             Stray          NaN           0  \n",
       "1431      0.0             Stray          NaN           0  \n",
       "1432      0.0  Unable to Afford          NaN           0  \n",
       "1433      0.0             Stray          NaN           0  "
      ]
     },
     "execution_count": 184,
     "metadata": {},
     "output_type": "execute_result"
    }
   ],
   "source": [
    "df[df.id==56475]"
   ]
  },
  {
   "cell_type": "markdown",
   "metadata": {},
   "source": [
    "We can model Independence's movement as a collection of states:\n",
    "\n",
    "```\n",
    "[ Stray, Foster, Foster, Adoption, Unable to Afford, Adoption ]\n",
    "```\n",
    "\n",
    "Sankey charts work on the basis of state transitions. We can thus quantize Independence's movements as a collection of tuples, where the first item of each tuple represents the initial state, and the second item represents the final state.\n",
    "\n",
    "```\n",
    "[(Stray, Foster), \n",
    " (Foster, Foster),\n",
    " (Foster, Adoption),\n",
    " (Adoption, Unable to Afford),\n",
    " (Unable to Afford, Adoption)]\n",
    "```\n",
    "\n",
    "If we do this for each animal, we can account for the movements of all animals through the shelter over time. This is accomplished below."
   ]
  },
  {
   "cell_type": "code",
   "execution_count": 185,
   "metadata": {
    "scrolled": false
   },
   "outputs": [],
   "source": [
    "# Examine the group of records for each animal \n",
    "# and return a sequence of state transitions.\n",
    "def sequence_transitions(group):\n",
    "    # an accumulator for this animal's transitions\n",
    "    seq = []\n",
    "    # the index of the last record in this group\n",
    "    last_idx = len(group['id'])-1    \n",
    "    # for each row in the group...\n",
    "    for row_idx,(i,row) in enumerate(group.iterrows()):\n",
    "        # Add intake reason on first row\n",
    "        if (row_idx == 0):\n",
    "            if (row.istransfer): seq.append(\"Transfer\")\n",
    "            else: seq.append(row.intakereason)\n",
    "        # Add intermediate movement step.\n",
    "        seq.append(row.movementtype)\n",
    "        # Add reason for return. \n",
    "        # Ignore 'stray'; it's the default/empty value.\n",
    "        # Ignore DOA; we'll catch this later\n",
    "        if (row.returnedreason not in ['Stray', 'DOA', 'Owner requested Euthanasia']):\n",
    "            seq.append(row.returnedreason)\n",
    "        # Check for animal death on last row\n",
    "        if (row_idx == last_idx):\n",
    "            if (row.puttosleep): seq.append(\"Euthanized\")\n",
    "            elif (type(row.deceaseddate) is str): seq.append(\"Died\")\n",
    "    return seq\n",
    "\n",
    "# convert a list of items to a pairwise list of tupels\n",
    "# ex: [A, B, C, D] => [(A,B), (B,C), (C,D)]\n",
    "def tuple_pairwise(lst):\n",
    "    pairs = []\n",
    "    for idx in range(0,len(lst)-1):\n",
    "        pairs.append((lst[idx], lst[idx+1]))\n",
    "    return pairs\n",
    "\n",
    "# Generate a list of state transitions for every animal\n",
    "sequences=[]\n",
    "for name, group in df.groupby('id'):\n",
    "    sequences += tuple_pairwise(sequence_transitions(group))"
   ]
  },
  {
   "cell_type": "code",
   "execution_count": 186,
   "metadata": {},
   "outputs": [
    {
     "data": {
      "text/plain": [
       "[('Moving', 'Adoption'),\n",
       " ('Moving', 'Adoption'),\n",
       " ('Abandoned', 'Adoption'),\n",
       " ('Abandoned', 'Foster'),\n",
       " ('Incompatible', 'Adoption'),\n",
       " ('Adoption', 'Incompatible'),\n",
       " ('Incompatible', 'Adoption'),\n",
       " ('Abandoned', 'Transfer'),\n",
       " ('Abandoned', 'Transfer'),\n",
       " ('Abandoned', 'Foster')]"
      ]
     },
     "execution_count": 186,
     "metadata": {},
     "output_type": "execute_result"
    }
   ],
   "source": [
    "# The first 10 state transitions\n",
    "sequences[0:10]"
   ]
  },
  {
   "cell_type": "markdown",
   "metadata": {},
   "source": [
    "Next, we need to count how many instances of each type of transition we have. A `Counter` object will do this for us. We can see that the most common transition is Foster->Adoption, followed by Stray->Adoption. This is in line with intuition."
   ]
  },
  {
   "cell_type": "code",
   "execution_count": 187,
   "metadata": {},
   "outputs": [
    {
     "data": {
      "text/plain": [
       "[(('Foster', 'Adoption'), 644),\n",
       " (('Stray', 'Adoption'), 598),\n",
       " (('Incompatible', 'Adoption'), 480),\n",
       " (('Stray', 'Reclaimed'), 421),\n",
       " (('Stray', 'Foster'), 331),\n",
       " (('Foster', 'Foster'), 142),\n",
       " (('Adoption', 'Incompatible'), 138),\n",
       " (('Moving', 'Adoption'), 137),\n",
       " (('Incompatible', 'Foster'), 125),\n",
       " (('Litter relinquishment', 'Adoption'), 115)]"
      ]
     },
     "execution_count": 187,
     "metadata": {},
     "output_type": "execute_result"
    }
   ],
   "source": [
    "from collections import Counter\n",
    "c = Counter(sequences)\n",
    "c.most_common()[0:10]"
   ]
  },
  {
   "cell_type": "markdown",
   "metadata": {},
   "source": [
    "We need to reshape this slightly to fit with the Sankey widget's expected input."
   ]
  },
  {
   "cell_type": "code",
   "execution_count": 188,
   "metadata": {},
   "outputs": [
    {
     "data": {
      "text/plain": [
       "[{'source': 'Foster', 'target': 'Adoption', 'value': 644},\n",
       " {'source': 'Stray', 'target': 'Adoption', 'value': 598},\n",
       " {'source': 'Incompatible', 'target': 'Adoption', 'value': 480},\n",
       " {'source': 'Stray', 'target': 'Reclaimed', 'value': 421},\n",
       " {'source': 'Stray', 'target': 'Foster', 'value': 331},\n",
       " {'source': 'Foster', 'target': 'Foster', 'value': 142},\n",
       " {'source': 'Adoption', 'target': 'Incompatible', 'value': 138},\n",
       " {'source': 'Moving', 'target': 'Adoption', 'value': 137},\n",
       " {'source': 'Incompatible', 'target': 'Foster', 'value': 125},\n",
       " {'source': 'Litter relinquishment', 'target': 'Adoption', 'value': 115}]"
      ]
     },
     "execution_count": 188,
     "metadata": {},
     "output_type": "execute_result"
    }
   ],
   "source": [
    "def sankey_node(key):\n",
    "    return {\n",
    "        'source': key[0],\n",
    "        'target': key[1],\n",
    "        'value': c[key]\n",
    "    }\n",
    "    \n",
    "links = list(map(sankey_node, c.keys()))\n",
    "sorted(links, key=lambda l: l['value'], reverse=True)[0:10]"
   ]
  },
  {
   "cell_type": "markdown",
   "metadata": {},
   "source": [
    "To prevent the Sankey widget from becoming overloaded, we can limit our view to the more frequent transitions."
   ]
  },
  {
   "cell_type": "code",
   "execution_count": 189,
   "metadata": {},
   "outputs": [],
   "source": [
    "top = list(filter(lambda l: l['value']>30, links))"
   ]
  },
  {
   "cell_type": "markdown",
   "metadata": {},
   "source": [
    "Finally, we can draw the Sankey chart. Note the existence of cycles!"
   ]
  },
  {
   "cell_type": "code",
   "execution_count": 190,
   "metadata": {},
   "outputs": [
    {
     "data": {
      "application/vnd.jupyter.widget-view+json": {
       "model_id": "fbc5667415bb45e4a651ffe921d2beeb",
       "version_major": 2,
       "version_minor": 0
      },
      "text/plain": [
       "SankeyWidget(layout=Layout(height='1024', width='1280'), links=[{'source': 'Moving', 'target': 'Adoption', 'va…"
      ]
     },
     "metadata": {},
     "output_type": "display_data"
    }
   ],
   "source": [
    "from ipysankeywidget import SankeyWidget\n",
    "from ipywidgets import Layout\n",
    "\n",
    "layout = Layout(width=\"1280\", height=\"1024\")\n",
    "sankey = SankeyWidget(links=top, layout=layout)\n",
    "sankey"
   ]
  },
  {
   "cell_type": "code",
   "execution_count": null,
   "metadata": {},
   "outputs": [],
   "source": []
  }
 ],
 "metadata": {
  "kernelspec": {
   "display_name": "Python 3",
   "language": "python",
   "name": "python3"
  },
  "language_info": {
   "codemirror_mode": {
    "name": "ipython",
    "version": 3
   },
   "file_extension": ".py",
   "mimetype": "text/x-python",
   "name": "python",
   "nbconvert_exporter": "python",
   "pygments_lexer": "ipython3",
   "version": "3.6.5"
  }
 },
 "nbformat": 4,
 "nbformat_minor": 2
}
