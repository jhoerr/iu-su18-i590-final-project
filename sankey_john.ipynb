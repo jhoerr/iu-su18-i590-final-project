{
 "cells": [
  {
   "cell_type": "code",
   "execution_count": 218,
   "metadata": {},
   "outputs": [
    {
     "data": {
      "text/plain": [
       "RendererRegistry.enable('notebook')"
      ]
     },
     "execution_count": 218,
     "metadata": {},
     "output_type": "execute_result"
    }
   ],
   "source": [
    "import sys     \n",
    "import math\n",
    "import datetime\n",
    "import calendar\n",
    "import os                            \n",
    "import pandas as pd                  \n",
    "import matplotlib.pyplot as plt      \n",
    "import seaborn as sns     \n",
    "import altair as alt\n",
    "import numpy as np\n",
    "%matplotlib inline\n",
    "# jupyter notebook needs this option.\n",
    "alt.renderers.enable('notebook')"
   ]
  },
  {
   "cell_type": "code",
   "execution_count": 219,
   "metadata": {},
   "outputs": [
    {
     "data": {
      "text/html": [
       "<div>\n",
       "<style scoped>\n",
       "    .dataframe tbody tr th:only-of-type {\n",
       "        vertical-align: middle;\n",
       "    }\n",
       "\n",
       "    .dataframe tbody tr th {\n",
       "        vertical-align: top;\n",
       "    }\n",
       "\n",
       "    .dataframe thead th {\n",
       "        text-align: right;\n",
       "    }\n",
       "</style>\n",
       "<table border=\"1\" class=\"dataframe\">\n",
       "  <thead>\n",
       "    <tr style=\"text-align: right;\">\n",
       "      <th></th>\n",
       "      <th>id</th>\n",
       "      <th>intakereason</th>\n",
       "      <th>istransfer</th>\n",
       "      <th>animalname</th>\n",
       "      <th>speciesname</th>\n",
       "      <th>movementtype</th>\n",
       "      <th>istrial</th>\n",
       "      <th>returnedreason</th>\n",
       "      <th>deceaseddate</th>\n",
       "      <th>puttosleep</th>\n",
       "    </tr>\n",
       "  </thead>\n",
       "  <tbody>\n",
       "    <tr>\n",
       "      <th>0</th>\n",
       "      <td>15801</td>\n",
       "      <td>Moving</td>\n",
       "      <td>0</td>\n",
       "      <td>Jadzia</td>\n",
       "      <td>Cat</td>\n",
       "      <td>Adoption</td>\n",
       "      <td>0.0</td>\n",
       "      <td>Stray</td>\n",
       "      <td>NaN</td>\n",
       "      <td>0</td>\n",
       "    </tr>\n",
       "    <tr>\n",
       "      <th>1</th>\n",
       "      <td>15932</td>\n",
       "      <td>Moving</td>\n",
       "      <td>0</td>\n",
       "      <td>Gonzo</td>\n",
       "      <td>Dog</td>\n",
       "      <td>Adoption</td>\n",
       "      <td>0.0</td>\n",
       "      <td>Stray</td>\n",
       "      <td>NaN</td>\n",
       "      <td>0</td>\n",
       "    </tr>\n",
       "    <tr>\n",
       "      <th>2</th>\n",
       "      <td>28859</td>\n",
       "      <td>Abandoned</td>\n",
       "      <td>0</td>\n",
       "      <td>Maggie</td>\n",
       "      <td>Dog</td>\n",
       "      <td>Adoption</td>\n",
       "      <td>0.0</td>\n",
       "      <td>Stray</td>\n",
       "      <td>NaN</td>\n",
       "      <td>0</td>\n",
       "    </tr>\n",
       "    <tr>\n",
       "      <th>3</th>\n",
       "      <td>30812</td>\n",
       "      <td>Abandoned</td>\n",
       "      <td>0</td>\n",
       "      <td>Pretty Girl</td>\n",
       "      <td>Cat</td>\n",
       "      <td>Foster</td>\n",
       "      <td>0.0</td>\n",
       "      <td>Stray</td>\n",
       "      <td>NaN</td>\n",
       "      <td>0</td>\n",
       "    </tr>\n",
       "    <tr>\n",
       "      <th>4</th>\n",
       "      <td>31469</td>\n",
       "      <td>Incompatible</td>\n",
       "      <td>0</td>\n",
       "      <td>Bonnie</td>\n",
       "      <td>Dog</td>\n",
       "      <td>Adoption</td>\n",
       "      <td>0.0</td>\n",
       "      <td>Incompatible</td>\n",
       "      <td>NaN</td>\n",
       "      <td>0</td>\n",
       "    </tr>\n",
       "  </tbody>\n",
       "</table>\n",
       "</div>"
      ],
      "text/plain": [
       "      id  intakereason  istransfer   animalname speciesname movementtype  \\\n",
       "0  15801        Moving           0       Jadzia         Cat     Adoption   \n",
       "1  15932        Moving           0        Gonzo         Dog     Adoption   \n",
       "2  28859     Abandoned           0       Maggie         Dog     Adoption   \n",
       "3  30812     Abandoned           0  Pretty Girl         Cat       Foster   \n",
       "4  31469  Incompatible           0       Bonnie         Dog     Adoption   \n",
       "\n",
       "   istrial returnedreason deceaseddate  puttosleep  \n",
       "0      0.0          Stray          NaN           0  \n",
       "1      0.0          Stray          NaN           0  \n",
       "2      0.0          Stray          NaN           0  \n",
       "3      0.0          Stray          NaN           0  \n",
       "4      0.0   Incompatible          NaN           0  "
      ]
     },
     "execution_count": 219,
     "metadata": {},
     "output_type": "execute_result"
    }
   ],
   "source": [
    "dataurl = 'https://data.bloomington.in.gov/dataset/94d3f457-57b5-45be-bee0-a0106f59b7ed/resource/8854ce02-e8f5-44b9-b85f-17f002a7d023/download/8854ce02-e8f5-44b9-b85f-17f002a7d023.csv'\n",
    "df = pd.read_csv(dataurl)\n",
    "# Drop the \n",
    "df = df.drop(labels=[\n",
    "    'intakedate', \n",
    "    'sheltercode', \n",
    "    'identichipnumber', \n",
    "    'breedname', \n",
    "    'basecolour', \n",
    "    'animalage', \n",
    "    'sexname',\n",
    "    'location',\n",
    "    'movementdate',\n",
    "    'returndate',\n",
    "    'deceasedreason',\n",
    "    'diedoffshelter',\n",
    "    'isdoa'], axis=1)\n",
    "df.head()"
   ]
  },
  {
   "cell_type": "markdown",
   "metadata": {},
   "source": [
    "For the next step we need to map out each animal's movement through the shelter. Some animals will have multiple records corresponding to a sequence of movements through the shelter. For example, a cat called 'Independence' was brought to the shelter as a stray, fostered twice, adopted, subsequently returned because the owner couldn't afford her, and finally adopted once more."
   ]
  },
  {
   "cell_type": "code",
   "execution_count": 220,
   "metadata": {},
   "outputs": [
    {
     "data": {
      "text/html": [
       "<div>\n",
       "<style scoped>\n",
       "    .dataframe tbody tr th:only-of-type {\n",
       "        vertical-align: middle;\n",
       "    }\n",
       "\n",
       "    .dataframe tbody tr th {\n",
       "        vertical-align: top;\n",
       "    }\n",
       "\n",
       "    .dataframe thead th {\n",
       "        text-align: right;\n",
       "    }\n",
       "</style>\n",
       "<table border=\"1\" class=\"dataframe\">\n",
       "  <thead>\n",
       "    <tr style=\"text-align: right;\">\n",
       "      <th></th>\n",
       "      <th>id</th>\n",
       "      <th>intakereason</th>\n",
       "      <th>istransfer</th>\n",
       "      <th>animalname</th>\n",
       "      <th>speciesname</th>\n",
       "      <th>movementtype</th>\n",
       "      <th>istrial</th>\n",
       "      <th>returnedreason</th>\n",
       "      <th>deceaseddate</th>\n",
       "      <th>puttosleep</th>\n",
       "    </tr>\n",
       "  </thead>\n",
       "  <tbody>\n",
       "    <tr>\n",
       "      <th>1430</th>\n",
       "      <td>56475</td>\n",
       "      <td>Stray</td>\n",
       "      <td>0</td>\n",
       "      <td>Independence</td>\n",
       "      <td>Cat</td>\n",
       "      <td>Foster</td>\n",
       "      <td>0.0</td>\n",
       "      <td>Stray</td>\n",
       "      <td>NaN</td>\n",
       "      <td>0</td>\n",
       "    </tr>\n",
       "    <tr>\n",
       "      <th>1431</th>\n",
       "      <td>56475</td>\n",
       "      <td>Stray</td>\n",
       "      <td>0</td>\n",
       "      <td>Independence</td>\n",
       "      <td>Cat</td>\n",
       "      <td>Foster</td>\n",
       "      <td>0.0</td>\n",
       "      <td>Stray</td>\n",
       "      <td>NaN</td>\n",
       "      <td>0</td>\n",
       "    </tr>\n",
       "    <tr>\n",
       "      <th>1432</th>\n",
       "      <td>56475</td>\n",
       "      <td>Stray</td>\n",
       "      <td>0</td>\n",
       "      <td>Independence</td>\n",
       "      <td>Cat</td>\n",
       "      <td>Adoption</td>\n",
       "      <td>0.0</td>\n",
       "      <td>Unable to Afford</td>\n",
       "      <td>NaN</td>\n",
       "      <td>0</td>\n",
       "    </tr>\n",
       "    <tr>\n",
       "      <th>1433</th>\n",
       "      <td>56475</td>\n",
       "      <td>Stray</td>\n",
       "      <td>0</td>\n",
       "      <td>Independence</td>\n",
       "      <td>Cat</td>\n",
       "      <td>Adoption</td>\n",
       "      <td>0.0</td>\n",
       "      <td>Stray</td>\n",
       "      <td>NaN</td>\n",
       "      <td>0</td>\n",
       "    </tr>\n",
       "  </tbody>\n",
       "</table>\n",
       "</div>"
      ],
      "text/plain": [
       "         id intakereason  istransfer    animalname speciesname movementtype  \\\n",
       "1430  56475        Stray           0  Independence         Cat       Foster   \n",
       "1431  56475        Stray           0  Independence         Cat       Foster   \n",
       "1432  56475        Stray           0  Independence         Cat     Adoption   \n",
       "1433  56475        Stray           0  Independence         Cat     Adoption   \n",
       "\n",
       "      istrial    returnedreason deceaseddate  puttosleep  \n",
       "1430      0.0             Stray          NaN           0  \n",
       "1431      0.0             Stray          NaN           0  \n",
       "1432      0.0  Unable to Afford          NaN           0  \n",
       "1433      0.0             Stray          NaN           0  "
      ]
     },
     "execution_count": 220,
     "metadata": {},
     "output_type": "execute_result"
    }
   ],
   "source": [
    "df[df.id==56475]"
   ]
  },
  {
   "cell_type": "markdown",
   "metadata": {},
   "source": [
    "We can model Independence's movement as a collection of states:\n",
    "\n",
    "```\n",
    "[ Stray, Foster, Foster, Adoption, Unable to Afford, Adoption ]\n",
    "```\n",
    "\n",
    "Sankey charts work on the basis of state transitions. We can thus quantize Independence's movements as a collection of tuples, where the first item of each tuple represents the initial state, and the second item represents the final state.\n",
    "\n",
    "```\n",
    "[(Stray, Foster), \n",
    " (Foster, Foster),\n",
    " (Foster, Adoption),\n",
    " (Adoption, Unable to Afford),\n",
    " (Unable to Afford, Adoption)]\n",
    "```\n",
    "\n",
    "If we do this for each animal, we can account for the movements of all animals through the shelter over time. This is accomplished below."
   ]
  },
  {
   "cell_type": "code",
   "execution_count": 221,
   "metadata": {
    "scrolled": false
   },
   "outputs": [],
   "source": [
    "# Examine the group of records for each animal \n",
    "# and return a sequence of state transitions.\n",
    "def sequence_transitions(group):\n",
    "    # an accumulator for this animal's transitions\n",
    "    seq = []\n",
    "    seq_dict = {}\n",
    "    # the index of the last record in this group\n",
    "    last_idx = len(group['id'])-1    \n",
    "    # for each row in the group...\n",
    "    for row_idx,(i,row) in enumerate(group.iterrows()):\n",
    "        # Add intake reason on first row\n",
    "        if (row_idx == 0):\n",
    "            seq.append(row.speciesname)\n",
    "            #seq_dict[\"type\"] = row.speciesname\n",
    "            if (row.istransfer): \n",
    "                seq.append(\"Transfer\")\n",
    "                #seq_dict[\"source\"]=\"Transfer\"\n",
    "            else: \n",
    "                seq.append(row.intakereason) \n",
    "                #seq_dict[\"source\"]=row.intakereason\n",
    "        # Add intermediate movement step.\n",
    "        seq.append(row.movementtype)\n",
    "        #seq_dict['waypoint'+str(row_idx)]= row.movementtype\n",
    "        # Add reason for return. \n",
    "        # Ignore 'stray'; it's the default/empty value.\n",
    "        # Ignore DOA; we'll catch this later\n",
    "        if (row.returnedreason not in ['Stray', 'DOA', 'Owner requested Euthanasia']):\n",
    "            seq.append(row.returnedreason)\n",
    "            #seq_dict['waypoint'+str(row_idx)]= row.movementtype\n",
    "        # Check for animal death on last row\n",
    "        if (row_idx == last_idx):\n",
    "            if (row.puttosleep): \n",
    "                seq.append(\"Euthanized\") \n",
    "                #seq_dict['target']= \"Euthanized\"\n",
    "            elif (type(row.deceaseddate) is str): \n",
    "                seq.append(\"Died\") \n",
    "                #seq_dict['target']=\"Euthanized\"\n",
    "                # last row - copy movement type to target\n",
    "    return seq\n",
    "\n",
    "# convert a list of items to a pairwise list of tupels\n",
    "# ex: [A, B, C, D] => [(A,B), (B,C), (C,D)]\n",
    "def tuple_pairwise(lst):\n",
    "    pairs = []\n",
    "    for idx in range(1,len(lst)-1):\n",
    "        pairs.append((lst[0], lst[idx], lst[idx+1]))\n",
    "    return pairs\n",
    "\n",
    "# Generate a list of state transitions for every animal\n",
    "def transform_sequences_to_dicts(seq): \n",
    "    result = {}\n",
    "    result[\"type\"]=seq[0]\n",
    "    result[\"source\"]=seq[1]\n",
    "    result[\"target\"]=seq[-1]\n",
    "    \n",
    "    for i in range(2, len(seq)-1):\n",
    "        result[\"waypoint\"+(str)(i-2)] = seq[i]\n",
    "    return result\n",
    "        \n",
    "sequences=[]\n",
    "pairwise_sequences=[]\n",
    "for name, group in df.groupby('id'):\n",
    "    s = sequence_transitions(group)\n",
    "    sequences.append(transform_sequences_to_dicts(s))\n",
    "    pairwise_sequences += tuple_pairwise(s)"
   ]
  },
  {
   "cell_type": "code",
   "execution_count": 222,
   "metadata": {},
   "outputs": [
    {
     "data": {
      "text/plain": [
       "[{'type': 'Cat', 'source': 'Moving', 'target': 'Adoption'},\n",
       " {'type': 'Dog', 'source': 'Moving', 'target': 'Adoption'},\n",
       " {'type': 'Dog', 'source': 'Abandoned', 'target': 'Adoption'},\n",
       " {'type': 'Cat', 'source': 'Abandoned', 'target': 'Foster'},\n",
       " {'type': 'Dog',\n",
       "  'source': 'Incompatible',\n",
       "  'target': 'Adoption',\n",
       "  'waypoint0': 'Adoption',\n",
       "  'waypoint1': 'Incompatible'},\n",
       " {'type': 'Rabbit', 'source': 'Abandoned', 'target': 'Transfer'},\n",
       " {'type': 'Rabbit', 'source': 'Abandoned', 'target': 'Transfer'},\n",
       " {'type': 'Dog',\n",
       "  'source': 'Abandoned',\n",
       "  'target': 'Adoption',\n",
       "  'waypoint0': 'Foster',\n",
       "  'waypoint1': 'Foster'},\n",
       " {'type': 'Cat',\n",
       "  'source': 'Abandoned',\n",
       "  'target': 'Euthanized',\n",
       "  'waypoint0': 'Foster',\n",
       "  'waypoint1': 'Adoption',\n",
       "  'waypoint2': 'Incompatible'},\n",
       " {'type': 'Dog', 'source': 'Abandoned', 'target': 'Adoption'}]"
      ]
     },
     "execution_count": 222,
     "metadata": {},
     "output_type": "execute_result"
    }
   ],
   "source": [
    "# The first 10 state transitions\n",
    "sequences[0:10]"
   ]
  },
  {
   "cell_type": "code",
   "execution_count": 223,
   "metadata": {},
   "outputs": [
    {
     "data": {
      "text/plain": [
       "[('Cat', 'Moving', 'Adoption'),\n",
       " ('Dog', 'Moving', 'Adoption'),\n",
       " ('Dog', 'Abandoned', 'Adoption'),\n",
       " ('Cat', 'Abandoned', 'Foster'),\n",
       " ('Dog', 'Incompatible', 'Adoption'),\n",
       " ('Dog', 'Adoption', 'Incompatible'),\n",
       " ('Dog', 'Incompatible', 'Adoption'),\n",
       " ('Rabbit', 'Abandoned', 'Transfer'),\n",
       " ('Rabbit', 'Abandoned', 'Transfer'),\n",
       " ('Dog', 'Abandoned', 'Foster')]"
      ]
     },
     "execution_count": 223,
     "metadata": {},
     "output_type": "execute_result"
    }
   ],
   "source": [
    "pairwise_sequences[0:10]"
   ]
  },
  {
   "cell_type": "markdown",
   "metadata": {},
   "source": [
    "Next, we need to count how many instances of each type of transition we have. A `Counter` object will do this for us. We can see that the most common transition is Foster->Adoption, followed by Stray->Adoption. This is in line with intuition."
   ]
  },
  {
   "cell_type": "code",
   "execution_count": 224,
   "metadata": {},
   "outputs": [
    {
     "data": {
      "text/plain": [
       "[(('Cat', 'Foster', 'Adoption'), 487),\n",
       " (('Dog', 'Stray', 'Reclaimed'), 334),\n",
       " (('Cat', 'Stray', 'Adoption'), 328),\n",
       " (('Cat', 'Stray', 'Foster'), 286),\n",
       " (('Dog', 'Stray', 'Adoption'), 248),\n",
       " (('Dog', 'Incompatible', 'Adoption'), 236),\n",
       " (('Cat', 'Incompatible', 'Adoption'), 177),\n",
       " (('Dog', 'Foster', 'Adoption'), 137),\n",
       " (('Dog', 'Adoption', 'Incompatible'), 98),\n",
       " (('Cat', 'Incompatible', 'Foster'), 96)]"
      ]
     },
     "execution_count": 224,
     "metadata": {},
     "output_type": "execute_result"
    }
   ],
   "source": [
    "from collections import Counter\n",
    "c = Counter(pairwise_sequences)\n",
    "c.most_common()[0:10]"
   ]
  },
  {
   "cell_type": "markdown",
   "metadata": {},
   "source": [
    "We need to reshape this slightly to fit with the Sankey widget's expected input."
   ]
  },
  {
   "cell_type": "code",
   "execution_count": 225,
   "metadata": {},
   "outputs": [
    {
     "data": {
      "text/plain": [
       "[{'source': 'Foster',\n",
       "  'target': 'Adoption',\n",
       "  'value': 487,\n",
       "  'type': 'Cat',\n",
       "  'color': '#D32F2F'},\n",
       " {'source': 'Stray',\n",
       "  'target': 'Reclaimed',\n",
       "  'value': 334,\n",
       "  'type': 'Dog',\n",
       "  'color': '#FFC107'},\n",
       " {'source': 'Stray',\n",
       "  'target': 'Adoption',\n",
       "  'value': 328,\n",
       "  'type': 'Cat',\n",
       "  'color': '#D32F2F'},\n",
       " {'source': 'Stray',\n",
       "  'target': 'Foster',\n",
       "  'value': 286,\n",
       "  'type': 'Cat',\n",
       "  'color': '#D32F2F'},\n",
       " {'source': 'Stray',\n",
       "  'target': 'Adoption',\n",
       "  'value': 248,\n",
       "  'type': 'Dog',\n",
       "  'color': '#FFC107'},\n",
       " {'source': 'Incompatible',\n",
       "  'target': 'Adoption',\n",
       "  'value': 236,\n",
       "  'type': 'Dog',\n",
       "  'color': '#FFC107'},\n",
       " {'source': 'Incompatible',\n",
       "  'target': 'Adoption',\n",
       "  'value': 177,\n",
       "  'type': 'Cat',\n",
       "  'color': '#D32F2F'},\n",
       " {'source': 'Foster',\n",
       "  'target': 'Adoption',\n",
       "  'value': 137,\n",
       "  'type': 'Dog',\n",
       "  'color': '#FFC107'},\n",
       " {'source': 'Adoption',\n",
       "  'target': 'Incompatible',\n",
       "  'value': 98,\n",
       "  'type': 'Dog',\n",
       "  'color': '#FFC107'},\n",
       " {'source': 'Incompatible',\n",
       "  'target': 'Foster',\n",
       "  'value': 96,\n",
       "  'type': 'Cat',\n",
       "  'color': '#D32F2F'}]"
      ]
     },
     "execution_count": 225,
     "metadata": {},
     "output_type": "execute_result"
    }
   ],
   "source": [
    "def sankey_node(key):\n",
    "    return {\n",
    "        \n",
    "        'source': key[1],\n",
    "        'target': key[2],\n",
    "        'value': c[key],\n",
    "        'type': key[0],\n",
    "        'color': \"#D32F2F\" if key[0] == \"Cat\" else \"#FFC107\"\n",
    "    }\n",
    "    \n",
    "links = list(map(sankey_node, c.keys()))\n",
    "sorted(links, key=lambda l: l['value'], reverse=True)[0:10]"
   ]
  },
  {
   "cell_type": "markdown",
   "metadata": {},
   "source": [
    "Let's plot a scaled back version of the chart to make sure the shape is correct."
   ]
  },
  {
   "cell_type": "code",
   "execution_count": 245,
   "metadata": {},
   "outputs": [
    {
     "data": {
      "application/vnd.jupyter.widget-view+json": {
       "model_id": "36545cdba11e4eebb85eae14bb20e2a8",
       "version_major": 2,
       "version_minor": 0
      },
      "text/plain": [
       "SankeyWidget(layout=Layout(height='600', width='800'), links=[{'source': 'Incompatible', 'target': 'Adoption',…"
      ]
     },
     "metadata": {},
     "output_type": "display_data"
    }
   ],
   "source": [
    "from ipysankeywidget import SankeyWidget\n",
    "from ipywidgets import Layout\n",
    "\n",
    "# To prevent the Sankey widget from becoming overloaded, we can limit our view to the more frequent transitions.\n",
    "top = list(filter(lambda l: l['value']>100, links))\n",
    "\n",
    "layout = Layout(width=\"800\", height=\"600\" )\n",
    "sankey = SankeyWidget(links=top, layout=layout,  margins=dict(top=0, bottom=0, left=100, right=100))\n",
    "sankey.auto_save_png('two_state_transitions_proto.png')"
   ]
  },
  {
   "cell_type": "markdown",
   "metadata": {},
   "source": [
    "Finally, Let's plot a fuller visualization with more transitions. Note the existence of cycles!"
   ]
  },
  {
   "cell_type": "code",
   "execution_count": 246,
   "metadata": {},
   "outputs": [
    {
     "data": {
      "application/vnd.jupyter.widget-view+json": {
       "model_id": "e37bdea751ff4c4d8c5e1f17c8685bcd",
       "version_major": 2,
       "version_minor": 0
      },
      "text/plain": [
       "SankeyWidget(layout=Layout(height='600', width='800'), links=[{'source': 'Moving', 'target': 'Adoption', 'valu…"
      ]
     },
     "metadata": {},
     "output_type": "display_data"
    }
   ],
   "source": [
    "top = list(filter(lambda l: l['value']>30, links))\n",
    "\n",
    "layout = Layout(width=\"800\", height=\"600\" )\n",
    "sankey = SankeyWidget(links=top, layout=layout,  margins=dict(top=0, bottom=0, left=130, right=100))\n",
    "sankey.auto_save_png('two_state_transitions_full.png')"
   ]
  },
  {
   "cell_type": "code",
   "execution_count": 213,
   "metadata": {},
   "outputs": [],
   "source": [
    "# Construct a dataframe from the sequences\n",
    "sk = pd.DataFrame.from_dict(sequences).dropna(subset=['source', 'target']).replace(np.nan, '', regex=True)\n",
    "# Reshape with dataframe to merge duplicate rows and set 'value' to the count of duplicate rows \n",
    "sk = sk.groupby(sk.columns.tolist()).size().reset_index().rename(columns={0:'value'})\n",
    "# Sort by value, descending\n",
    "sk = sk.sort_values(\"value\", ascending=False)"
   ]
  },
  {
   "cell_type": "code",
   "execution_count": 240,
   "metadata": {},
   "outputs": [],
   "source": [
    "from floweaver import *\n",
    "\n",
    "def flow(df, filename):\n",
    "\n",
    "    # Construct nodes\n",
    "    nodes = {\n",
    "        'incomingreason': ProcessGroup(df.source.unique().tolist()),\n",
    "        'outcometype': ProcessGroup(df.target.unique().tolist()),\n",
    "        'waypoint0': Waypoint(Partition.Simple('waypoint0', df.waypoint0.unique().tolist())),\n",
    "        'waypoint1': Waypoint(Partition.Simple('waypoint1', df.waypoint1.unique().tolist())),\n",
    "        'waypoint2': Waypoint(Partition.Simple('waypoint2', df.waypoint2.unique().tolist())),\n",
    "    }\n",
    "\n",
    "    # Update the ProcessGroup nodes to use the partitions\n",
    "    nodes['incomingreason'].partition = Partition.Simple('process',df.source.unique().tolist())\n",
    "    nodes['outcometype'].partition = Partition.Simple('process',df.target.unique().tolist())\n",
    "    species_by_type = Partition.Simple('type', sankey_frame.type.unique().tolist())\n",
    "\n",
    "    # 2. Update the ordering to show where the waypoint goes: in the middle\n",
    "    ordering = [\n",
    "        ['incomingreason'],\n",
    "        ['waypoint0'],['waypoint1'],['waypoint2'],\n",
    "        ['outcometype'],\n",
    "    ]\n",
    "\n",
    "    # 3. Update the bundle definition to send the flows via the waypoint\n",
    "    bundles = [\n",
    "        Bundle('incomingreason', 'outcometype', \n",
    "               waypoints=['waypoint0','waypoint1','waypoint2']),\n",
    "    ]\n",
    "\n",
    "    # Update the SDD with the new nodes, ordering & bundles.\n",
    "    SankeyWidget(links=df.to_dict('records'), margins=dict(top=0, bottom=0, left=500, right=-100))\n",
    "\n",
    "    palette = {'Cat': '#D32F2F', 'Dog': '#FFC107'}\n",
    "    sdd = SankeyDefinition(nodes, bundles, ordering,flow_partition=species_by_type)\n",
    "    size = dict(width = 1000, height=600) # still need to work with the width and height.\n",
    "    return weave(sdd, df, palette=palette).to_widget(**size).auto_save_png(filename)"
   ]
  },
  {
   "cell_type": "code",
   "execution_count": 241,
   "metadata": {},
   "outputs": [
    {
     "data": {
      "application/vnd.jupyter.widget-view+json": {
       "model_id": "2ac1a25e83844f29895323dc53495991",
       "version_major": 2,
       "version_minor": 0
      },
      "text/plain": [
       "SankeyWidget(groups=[{'id': 'incomingreason', 'type': 'process', 'title': '', 'nodes': ['incomingreason^Stray'…"
      ]
     },
     "metadata": {},
     "output_type": "display_data"
    }
   ],
   "source": [
    "flow(sk.head(10), \"sankey_flow_proto.png\")"
   ]
  },
  {
   "cell_type": "code",
   "execution_count": 242,
   "metadata": {
    "scrolled": false
   },
   "outputs": [
    {
     "data": {
      "application/vnd.jupyter.widget-view+json": {
       "model_id": "9804985307b44bbcbbfe970dda6fcc37",
       "version_major": 2,
       "version_minor": 0
      },
      "text/plain": [
       "SankeyWidget(groups=[{'id': 'incomingreason', 'type': 'process', 'title': '', 'nodes': ['incomingreason^Stray'…"
      ]
     },
     "metadata": {},
     "output_type": "display_data"
    }
   ],
   "source": [
    "flow(sk.head(50), \"sankey_flow.png\")"
   ]
  },
  {
   "cell_type": "code",
   "execution_count": 244,
   "metadata": {},
   "outputs": [
    {
     "data": {
      "application/vnd.jupyter.widget-view+json": {
       "model_id": "82072565e1c5434292bf86e27acdfbad",
       "version_major": 2,
       "version_minor": 0
      },
      "text/plain": [
       "SankeyWidget(groups=[{'id': 'incomingreason', 'type': 'process', 'title': '', 'nodes': ['incomingreason^Stray'…"
      ]
     },
     "metadata": {},
     "output_type": "display_data"
    }
   ],
   "source": [
    "flow(sk[sk['waypoint2'] != ''].head(10), \"sankey_flow_complex.png\")"
   ]
  },
  {
   "cell_type": "code",
   "execution_count": null,
   "metadata": {},
   "outputs": [],
   "source": []
  }
 ],
 "metadata": {
  "kernelspec": {
   "display_name": "Python 3",
   "language": "python",
   "name": "python3"
  },
  "language_info": {
   "codemirror_mode": {
    "name": "ipython",
    "version": 3
   },
   "file_extension": ".py",
   "mimetype": "text/x-python",
   "name": "python",
   "nbconvert_exporter": "python",
   "pygments_lexer": "ipython3",
   "version": "3.6.5"
  }
 },
 "nbformat": 4,
 "nbformat_minor": 2
}
