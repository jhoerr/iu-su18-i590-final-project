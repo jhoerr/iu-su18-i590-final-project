{
 "cells": [
  {
   "cell_type": "code",
   "execution_count": 57,
   "metadata": {},
   "outputs": [],
   "source": [
    "import pandas as pd\n",
    "from ipysankeywidget import SankeyWidget\n",
    "\n"
   ]
  },
  {
   "cell_type": "markdown",
   "metadata": {},
   "source": [
    "Our dataset comes from the freely available [Animal Care and Control Adopted Animals](https://data.bloomington.in.gov/dataset/adopted-animals) dataset published by the city of Bloomington, IN."
   ]
  },
  {
   "cell_type": "code",
   "execution_count": 58,
   "metadata": {},
   "outputs": [
    {
     "data": {
      "text/html": [
       "<div>\n",
       "<style scoped>\n",
       "    .dataframe tbody tr th:only-of-type {\n",
       "        vertical-align: middle;\n",
       "    }\n",
       "\n",
       "    .dataframe tbody tr th {\n",
       "        vertical-align: top;\n",
       "    }\n",
       "\n",
       "    .dataframe thead th {\n",
       "        text-align: right;\n",
       "    }\n",
       "</style>\n",
       "<table border=\"1\" class=\"dataframe\">\n",
       "  <thead>\n",
       "    <tr style=\"text-align: right;\">\n",
       "      <th></th>\n",
       "      <th>id</th>\n",
       "      <th>intakedate</th>\n",
       "      <th>intakereason</th>\n",
       "      <th>istransfer</th>\n",
       "      <th>sheltercode</th>\n",
       "      <th>identichipnumber</th>\n",
       "      <th>animalname</th>\n",
       "      <th>breedname</th>\n",
       "      <th>basecolour</th>\n",
       "      <th>speciesname</th>\n",
       "      <th>...</th>\n",
       "      <th>movementdate</th>\n",
       "      <th>movementtype</th>\n",
       "      <th>istrial</th>\n",
       "      <th>returndate</th>\n",
       "      <th>returnedreason</th>\n",
       "      <th>deceaseddate</th>\n",
       "      <th>deceasedreason</th>\n",
       "      <th>diedoffshelter</th>\n",
       "      <th>puttosleep</th>\n",
       "      <th>isdoa</th>\n",
       "    </tr>\n",
       "  </thead>\n",
       "  <tbody>\n",
       "    <tr>\n",
       "      <th>0</th>\n",
       "      <td>15801</td>\n",
       "      <td>2009-11-28 00:00:00</td>\n",
       "      <td>Moving</td>\n",
       "      <td>0</td>\n",
       "      <td>C09115463</td>\n",
       "      <td>0A115D7358</td>\n",
       "      <td>Jadzia</td>\n",
       "      <td>Domestic Short Hair</td>\n",
       "      <td>Tortie</td>\n",
       "      <td>Cat</td>\n",
       "      <td>...</td>\n",
       "      <td>2017-05-13 00:00:00</td>\n",
       "      <td>Adoption</td>\n",
       "      <td>0.0</td>\n",
       "      <td>NaN</td>\n",
       "      <td>Stray</td>\n",
       "      <td>NaN</td>\n",
       "      <td>Died in care</td>\n",
       "      <td>0</td>\n",
       "      <td>0</td>\n",
       "      <td>0</td>\n",
       "    </tr>\n",
       "    <tr>\n",
       "      <th>1</th>\n",
       "      <td>15932</td>\n",
       "      <td>2009-12-08 00:00:00</td>\n",
       "      <td>Moving</td>\n",
       "      <td>0</td>\n",
       "      <td>D09125594</td>\n",
       "      <td>0A11675477</td>\n",
       "      <td>Gonzo</td>\n",
       "      <td>German Shepherd Dog/Mix</td>\n",
       "      <td>Tan</td>\n",
       "      <td>Dog</td>\n",
       "      <td>...</td>\n",
       "      <td>2017-04-24 00:00:00</td>\n",
       "      <td>Adoption</td>\n",
       "      <td>0.0</td>\n",
       "      <td>NaN</td>\n",
       "      <td>Stray</td>\n",
       "      <td>NaN</td>\n",
       "      <td>Died in care</td>\n",
       "      <td>0</td>\n",
       "      <td>0</td>\n",
       "      <td>0</td>\n",
       "    </tr>\n",
       "    <tr>\n",
       "      <th>2</th>\n",
       "      <td>28859</td>\n",
       "      <td>2012-08-10 00:00:00</td>\n",
       "      <td>Abandoned</td>\n",
       "      <td>0</td>\n",
       "      <td>D12082309</td>\n",
       "      <td>0A13253C7B</td>\n",
       "      <td>Maggie</td>\n",
       "      <td>Shep Mix/Siberian Husky</td>\n",
       "      <td>Various</td>\n",
       "      <td>Dog</td>\n",
       "      <td>...</td>\n",
       "      <td>2017-04-15 00:00:00</td>\n",
       "      <td>Adoption</td>\n",
       "      <td>0.0</td>\n",
       "      <td>NaN</td>\n",
       "      <td>Stray</td>\n",
       "      <td>NaN</td>\n",
       "      <td>Died in care</td>\n",
       "      <td>0</td>\n",
       "      <td>0</td>\n",
       "      <td>0</td>\n",
       "    </tr>\n",
       "    <tr>\n",
       "      <th>3</th>\n",
       "      <td>30812</td>\n",
       "      <td>2013-01-11 00:00:00</td>\n",
       "      <td>Abandoned</td>\n",
       "      <td>0</td>\n",
       "      <td>C1301091</td>\n",
       "      <td>0A13403D4D</td>\n",
       "      <td>Pretty Girl</td>\n",
       "      <td>Domestic Short Hair</td>\n",
       "      <td>Dilute tortoiseshell</td>\n",
       "      <td>Cat</td>\n",
       "      <td>...</td>\n",
       "      <td>2017-04-18 00:00:00</td>\n",
       "      <td>Foster</td>\n",
       "      <td>0.0</td>\n",
       "      <td>NaN</td>\n",
       "      <td>Stray</td>\n",
       "      <td>NaN</td>\n",
       "      <td>Died in care</td>\n",
       "      <td>0</td>\n",
       "      <td>0</td>\n",
       "      <td>0</td>\n",
       "    </tr>\n",
       "    <tr>\n",
       "      <th>4</th>\n",
       "      <td>31469</td>\n",
       "      <td>2013-03-26 00:00:00</td>\n",
       "      <td>Incompatible</td>\n",
       "      <td>0</td>\n",
       "      <td>D1303720</td>\n",
       "      <td>981020007006095</td>\n",
       "      <td>Bonnie</td>\n",
       "      <td>Basenji/Mix</td>\n",
       "      <td>Brown and White</td>\n",
       "      <td>Dog</td>\n",
       "      <td>...</td>\n",
       "      <td>2013-03-30 00:00:00</td>\n",
       "      <td>Adoption</td>\n",
       "      <td>0.0</td>\n",
       "      <td>2017-05-08 00:00:00</td>\n",
       "      <td>Incompatible</td>\n",
       "      <td>NaN</td>\n",
       "      <td>Died in care</td>\n",
       "      <td>0</td>\n",
       "      <td>0</td>\n",
       "      <td>0</td>\n",
       "    </tr>\n",
       "  </tbody>\n",
       "</table>\n",
       "<p>5 rows × 23 columns</p>\n",
       "</div>"
      ],
      "text/plain": [
       "      id           intakedate  intakereason  istransfer sheltercode  \\\n",
       "0  15801  2009-11-28 00:00:00        Moving           0   C09115463   \n",
       "1  15932  2009-12-08 00:00:00        Moving           0   D09125594   \n",
       "2  28859  2012-08-10 00:00:00     Abandoned           0   D12082309   \n",
       "3  30812  2013-01-11 00:00:00     Abandoned           0    C1301091   \n",
       "4  31469  2013-03-26 00:00:00  Incompatible           0    D1303720   \n",
       "\n",
       "  identichipnumber   animalname                breedname  \\\n",
       "0       0A115D7358       Jadzia      Domestic Short Hair   \n",
       "1       0A11675477        Gonzo  German Shepherd Dog/Mix   \n",
       "2       0A13253C7B       Maggie  Shep Mix/Siberian Husky   \n",
       "3       0A13403D4D  Pretty Girl      Domestic Short Hair   \n",
       "4  981020007006095       Bonnie              Basenji/Mix   \n",
       "\n",
       "             basecolour speciesname  ...          movementdate movementtype  \\\n",
       "0                Tortie         Cat  ...   2017-05-13 00:00:00     Adoption   \n",
       "1                   Tan         Dog  ...   2017-04-24 00:00:00     Adoption   \n",
       "2               Various         Dog  ...   2017-04-15 00:00:00     Adoption   \n",
       "3  Dilute tortoiseshell         Cat  ...   2017-04-18 00:00:00       Foster   \n",
       "4       Brown and White         Dog  ...   2013-03-30 00:00:00     Adoption   \n",
       "\n",
       "  istrial           returndate returnedreason  deceaseddate deceasedreason  \\\n",
       "0     0.0                  NaN          Stray           NaN   Died in care   \n",
       "1     0.0                  NaN          Stray           NaN   Died in care   \n",
       "2     0.0                  NaN          Stray           NaN   Died in care   \n",
       "3     0.0                  NaN          Stray           NaN   Died in care   \n",
       "4     0.0  2017-05-08 00:00:00   Incompatible           NaN   Died in care   \n",
       "\n",
       "  diedoffshelter puttosleep isdoa  \n",
       "0              0          0     0  \n",
       "1              0          0     0  \n",
       "2              0          0     0  \n",
       "3              0          0     0  \n",
       "4              0          0     0  \n",
       "\n",
       "[5 rows x 23 columns]"
      ]
     },
     "execution_count": 58,
     "metadata": {},
     "output_type": "execute_result"
    }
   ],
   "source": [
    "dataurl = 'https://data.bloomington.in.gov/dataset/94d3f457-57b5-45be-bee0-a0106f59b7ed/resource/8854ce02-e8f5-44b9-b85f-17f002a7d023/download/8854ce02-e8f5-44b9-b85f-17f002a7d023.csv'\n",
    "df = pd.read_csv(dataurl)\n",
    "df.head()"
   ]
  },
  {
   "cell_type": "markdown",
   "metadata": {},
   "source": [
    "'Misty' and 'Wallaby' are the shelter names of two kittens that John adopted on 7/29/17. We can decipher some of these columns by looking at Misty's record. "
   ]
  },
  {
   "cell_type": "code",
   "execution_count": 10,
   "metadata": {},
   "outputs": [
    {
     "data": {
      "text/plain": [
       "Index(['id', 'intakedate', 'intakereason', 'istransfer', 'sheltercode',\n",
       "       'identichipnumber', 'animalname', 'breedname', 'basecolour',\n",
       "       'speciesname', 'animalage', 'sexname', 'location', 'movementdate',\n",
       "       'movementtype', 'istrial', 'returndate', 'returnedreason',\n",
       "       'deceaseddate', 'deceasedreason', 'diedoffshelter', 'puttosleep',\n",
       "       'isdoa'],\n",
       "      dtype='object')"
      ]
     },
     "execution_count": 10,
     "metadata": {},
     "output_type": "execute_result"
    }
   ],
   "source": [
    "df.columns"
   ]
  },
  {
   "cell_type": "code",
   "execution_count": 4,
   "metadata": {
    "scrolled": true
   },
   "outputs": [
    {
     "data": {
      "text/plain": [
       "{'animalage': {1615: '11 months.'},\n",
       " 'animalname': {1615: 'Misty'},\n",
       " 'basecolour': {1615: 'Buff'},\n",
       " 'breedname': {1615: 'Domestic Short Hair'},\n",
       " 'deceaseddate': {1615: nan},\n",
       " 'deceasedreason': {1615: 'Court Order/ Legal'},\n",
       " 'diedoffshelter': {1615: 0},\n",
       " 'id': {1615: 56615},\n",
       " 'identichipnumber': {1615: '981020021056684'},\n",
       " 'intakedate': {1615: '2017-07-14 13:01:34'},\n",
       " 'intakereason': {1615: 'Litter relinquishment'},\n",
       " 'isdoa': {1615: 0},\n",
       " 'istransfer': {1615: 0},\n",
       " 'istrial': {1615: 0.0},\n",
       " 'location': {1615: 'Lobby'},\n",
       " 'movementdate': {1615: '2017-07-29 00:00:00'},\n",
       " 'movementtype': {1615: 'Adoption'},\n",
       " 'puttosleep': {1615: 0},\n",
       " 'returndate': {1615: nan},\n",
       " 'returnedreason': {1615: 'Stray'},\n",
       " 'sexname': {1615: 'Female'},\n",
       " 'sheltercode': {1615: 'C1707739'},\n",
       " 'speciesname': {1615: 'Cat'}}"
      ]
     },
     "execution_count": 4,
     "metadata": {},
     "output_type": "execute_result"
    }
   ],
   "source": [
    "misty = df[df['animalname']==\"Misty\"]\n",
    "misty.to_dict()"
   ]
  },
  {
   "cell_type": "markdown",
   "metadata": {},
   "source": [
    "From this we can infer the following field descriptions:  \n",
    "\n",
    "| label | description |\n",
    "| ----- | ----------- |\n",
    "| intakereason | Why the animal came to the shelter |\n",
    "| movementtype | The animal's eventual outcome |\n",
    "\n",
    "Let's look at the unique values for these fields to learn more about how animals come to and leave the shelter."
   ]
  },
  {
   "cell_type": "code",
   "execution_count": 5,
   "metadata": {},
   "outputs": [
    {
     "name": "stdout",
     "output_type": "stream",
     "text": [
      "Intake Reasons:\n",
      "Stray                          1929\n",
      "Incompatible                    722\n",
      "Litter relinquishment           270\n",
      "Abandoned                       266\n",
      "Moving                          209\n",
      "Unsuitable Accomodation          99\n",
      "Transfer from Other Shelter      94\n",
      "Police Assist                    78\n",
      "Born in Shelter                  71\n",
      "Owner Deceased                   64\n",
      "Landlord issues                  56\n",
      "Unable to Afford                 55\n",
      "Sick/Injured                     53\n",
      "Allergies                        36\n",
      "Biting                           30\n",
      "Marriage/Relationship split      27\n",
      "Owner Died                       26\n",
      "TNR - Trap/Neuter/Release        17\n",
      "Rabies Monitoring                16\n",
      "Injured Wildlife                  8\n",
      "Owner requested Euthanasia        3\n",
      "Name: intakereason, dtype: int64\n",
      "\n"
     ]
    }
   ],
   "source": [
    "print(f\"Intake Reasons:\\n{df.intakereason.value_counts()}\\n\")"
   ]
  },
  {
   "cell_type": "markdown",
   "metadata": {},
   "source": [
    "Animals can come to the shelter for a variety of reasons, with the majority being strays and most of the remainder being given up by their owner."
   ]
  },
  {
   "cell_type": "code",
   "execution_count": 6,
   "metadata": {},
   "outputs": [
    {
     "name": "stdout",
     "output_type": "stream",
     "text": [
      "Movement Types:\n",
      "Adoption            2352\n",
      "Foster               906\n",
      "Reclaimed            625\n",
      "Transfer             243\n",
      "Released To Wild       2\n",
      "Stolen                 2\n",
      "None                   1\n",
      "Name: movementtype, dtype: int64\n",
      "\n"
     ]
    }
   ],
   "source": [
    "print(f\"Movement Types:\\n{df.movementtype.value_counts()}\\n\")"
   ]
  },
  {
   "cell_type": "code",
   "execution_count": null,
   "metadata": {},
   "outputs": [],
   "source": [
    "Most animals that make it out of the shelter are adopted (yay!) or reclaimed by their owner. "
   ]
  },
  {
   "cell_type": "markdown",
   "metadata": {},
   "source": [
    "*returnedreason* is still a mystery because as far as we know she wasn't a stray. *deceasedreason* is also a mystery because it neither makes sense nor is it particularly true as she is not deceased. Perhaps the deceasedreason is a field that has particular meaning when the animal has died -- maybe in conjunction with *deceaseddate*, *diedoffshelter*, *puttosleep*, and *isdoa* -- and another meaning when the animal is still alive. \n",
    "\n",
    "\n",
    "Combining the data frames that have various outputs -  istrail, returndata, returnedreason, deceaseddate, deceasedreason, diedoffshelter, puttosleep, isdoa"
   ]
  },
  {
   "cell_type": "code",
   "execution_count": 8,
   "metadata": {},
   "outputs": [],
   "source": [
    "# Outcome groups\n",
    "# Outcomes - istrial, returndate, returnedreason,\n",
    "# deceaseddate, deceasedreason, diedoffshelter, puttosleep, isdoa\n",
    "df_istrail = df[df['istrial']==1]\n",
    "df_returned = df[df['returnedreason']!='nan']\n",
    "df_deceasedreason = df[df['deceaseddate']!='nan']\n",
    "df_diedOffShelter = df[df['diedoffshelter']==1]\n",
    "df_puttosleep = df[df['puttosleep']==1]\n",
    "df_isdoa = df[df['isdoa']==1]\n"
   ]
  },
  {
   "cell_type": "code",
   "execution_count": 9,
   "metadata": {},
   "outputs": [
    {
     "data": {
      "text/html": [
       "<div>\n",
       "<style scoped>\n",
       "    .dataframe tbody tr th:only-of-type {\n",
       "        vertical-align: middle;\n",
       "    }\n",
       "\n",
       "    .dataframe tbody tr th {\n",
       "        vertical-align: top;\n",
       "    }\n",
       "\n",
       "    .dataframe thead th {\n",
       "        text-align: right;\n",
       "    }\n",
       "</style>\n",
       "<table border=\"1\" class=\"dataframe\">\n",
       "  <thead>\n",
       "    <tr style=\"text-align: right;\">\n",
       "      <th></th>\n",
       "      <th>id</th>\n",
       "      <th>intakedate</th>\n",
       "      <th>intakereason</th>\n",
       "      <th>istransfer</th>\n",
       "      <th>sheltercode</th>\n",
       "      <th>identichipnumber</th>\n",
       "      <th>animalname</th>\n",
       "      <th>breedname</th>\n",
       "      <th>basecolour</th>\n",
       "      <th>speciesname</th>\n",
       "      <th>...</th>\n",
       "      <th>movementdate</th>\n",
       "      <th>movementtype</th>\n",
       "      <th>istrial</th>\n",
       "      <th>returndate</th>\n",
       "      <th>returnedreason</th>\n",
       "      <th>deceaseddate</th>\n",
       "      <th>deceasedreason</th>\n",
       "      <th>diedoffshelter</th>\n",
       "      <th>puttosleep</th>\n",
       "      <th>isdoa</th>\n",
       "    </tr>\n",
       "  </thead>\n",
       "  <tbody>\n",
       "    <tr>\n",
       "      <th>0</th>\n",
       "      <td>15801</td>\n",
       "      <td>2009-11-28 00:00:00</td>\n",
       "      <td>Moving</td>\n",
       "      <td>0</td>\n",
       "      <td>C09115463</td>\n",
       "      <td>0A115D7358</td>\n",
       "      <td>Jadzia</td>\n",
       "      <td>Domestic Short Hair</td>\n",
       "      <td>Tortie</td>\n",
       "      <td>Cat</td>\n",
       "      <td>...</td>\n",
       "      <td>2017-05-13 00:00:00</td>\n",
       "      <td>Adoption</td>\n",
       "      <td>0.0</td>\n",
       "      <td>NaN</td>\n",
       "      <td>Stray</td>\n",
       "      <td>NaN</td>\n",
       "      <td>Died in care</td>\n",
       "      <td>0</td>\n",
       "      <td>0</td>\n",
       "      <td>0</td>\n",
       "    </tr>\n",
       "    <tr>\n",
       "      <th>1</th>\n",
       "      <td>15932</td>\n",
       "      <td>2009-12-08 00:00:00</td>\n",
       "      <td>Moving</td>\n",
       "      <td>0</td>\n",
       "      <td>D09125594</td>\n",
       "      <td>0A11675477</td>\n",
       "      <td>Gonzo</td>\n",
       "      <td>German Shepherd Dog/Mix</td>\n",
       "      <td>Tan</td>\n",
       "      <td>Dog</td>\n",
       "      <td>...</td>\n",
       "      <td>2017-04-24 00:00:00</td>\n",
       "      <td>Adoption</td>\n",
       "      <td>0.0</td>\n",
       "      <td>NaN</td>\n",
       "      <td>Stray</td>\n",
       "      <td>NaN</td>\n",
       "      <td>Died in care</td>\n",
       "      <td>0</td>\n",
       "      <td>0</td>\n",
       "      <td>0</td>\n",
       "    </tr>\n",
       "    <tr>\n",
       "      <th>2</th>\n",
       "      <td>28859</td>\n",
       "      <td>2012-08-10 00:00:00</td>\n",
       "      <td>Abandoned</td>\n",
       "      <td>0</td>\n",
       "      <td>D12082309</td>\n",
       "      <td>0A13253C7B</td>\n",
       "      <td>Maggie</td>\n",
       "      <td>Shep Mix/Siberian Husky</td>\n",
       "      <td>Various</td>\n",
       "      <td>Dog</td>\n",
       "      <td>...</td>\n",
       "      <td>2017-04-15 00:00:00</td>\n",
       "      <td>Adoption</td>\n",
       "      <td>0.0</td>\n",
       "      <td>NaN</td>\n",
       "      <td>Stray</td>\n",
       "      <td>NaN</td>\n",
       "      <td>Died in care</td>\n",
       "      <td>0</td>\n",
       "      <td>0</td>\n",
       "      <td>0</td>\n",
       "    </tr>\n",
       "    <tr>\n",
       "      <th>3</th>\n",
       "      <td>30812</td>\n",
       "      <td>2013-01-11 00:00:00</td>\n",
       "      <td>Abandoned</td>\n",
       "      <td>0</td>\n",
       "      <td>C1301091</td>\n",
       "      <td>0A13403D4D</td>\n",
       "      <td>Pretty Girl</td>\n",
       "      <td>Domestic Short Hair</td>\n",
       "      <td>Dilute tortoiseshell</td>\n",
       "      <td>Cat</td>\n",
       "      <td>...</td>\n",
       "      <td>2017-04-18 00:00:00</td>\n",
       "      <td>Foster</td>\n",
       "      <td>0.0</td>\n",
       "      <td>NaN</td>\n",
       "      <td>Stray</td>\n",
       "      <td>NaN</td>\n",
       "      <td>Died in care</td>\n",
       "      <td>0</td>\n",
       "      <td>0</td>\n",
       "      <td>0</td>\n",
       "    </tr>\n",
       "    <tr>\n",
       "      <th>4</th>\n",
       "      <td>31469</td>\n",
       "      <td>2013-03-26 00:00:00</td>\n",
       "      <td>Incompatible</td>\n",
       "      <td>0</td>\n",
       "      <td>D1303720</td>\n",
       "      <td>981020007006095</td>\n",
       "      <td>Bonnie</td>\n",
       "      <td>Basenji/Mix</td>\n",
       "      <td>Brown and White</td>\n",
       "      <td>Dog</td>\n",
       "      <td>...</td>\n",
       "      <td>2013-03-30 00:00:00</td>\n",
       "      <td>Adoption</td>\n",
       "      <td>0.0</td>\n",
       "      <td>2017-05-08 00:00:00</td>\n",
       "      <td>Incompatible</td>\n",
       "      <td>NaN</td>\n",
       "      <td>Died in care</td>\n",
       "      <td>0</td>\n",
       "      <td>0</td>\n",
       "      <td>0</td>\n",
       "    </tr>\n",
       "  </tbody>\n",
       "</table>\n",
       "<p>5 rows × 23 columns</p>\n",
       "</div>"
      ],
      "text/plain": [
       "      id           intakedate  intakereason  istransfer sheltercode  \\\n",
       "0  15801  2009-11-28 00:00:00        Moving           0   C09115463   \n",
       "1  15932  2009-12-08 00:00:00        Moving           0   D09125594   \n",
       "2  28859  2012-08-10 00:00:00     Abandoned           0   D12082309   \n",
       "3  30812  2013-01-11 00:00:00     Abandoned           0    C1301091   \n",
       "4  31469  2013-03-26 00:00:00  Incompatible           0    D1303720   \n",
       "\n",
       "  identichipnumber   animalname                breedname  \\\n",
       "0       0A115D7358       Jadzia      Domestic Short Hair   \n",
       "1       0A11675477        Gonzo  German Shepherd Dog/Mix   \n",
       "2       0A13253C7B       Maggie  Shep Mix/Siberian Husky   \n",
       "3       0A13403D4D  Pretty Girl      Domestic Short Hair   \n",
       "4  981020007006095       Bonnie              Basenji/Mix   \n",
       "\n",
       "             basecolour speciesname  ...          movementdate movementtype  \\\n",
       "0                Tortie         Cat  ...   2017-05-13 00:00:00     Adoption   \n",
       "1                   Tan         Dog  ...   2017-04-24 00:00:00     Adoption   \n",
       "2               Various         Dog  ...   2017-04-15 00:00:00     Adoption   \n",
       "3  Dilute tortoiseshell         Cat  ...   2017-04-18 00:00:00       Foster   \n",
       "4       Brown and White         Dog  ...   2013-03-30 00:00:00     Adoption   \n",
       "\n",
       "  istrial           returndate returnedreason  deceaseddate deceasedreason  \\\n",
       "0     0.0                  NaN          Stray           NaN   Died in care   \n",
       "1     0.0                  NaN          Stray           NaN   Died in care   \n",
       "2     0.0                  NaN          Stray           NaN   Died in care   \n",
       "3     0.0                  NaN          Stray           NaN   Died in care   \n",
       "4     0.0  2017-05-08 00:00:00   Incompatible           NaN   Died in care   \n",
       "\n",
       "  diedoffshelter puttosleep isdoa  \n",
       "0              0          0     0  \n",
       "1              0          0     0  \n",
       "2              0          0     0  \n",
       "3              0          0     0  \n",
       "4              0          0     0  \n",
       "\n",
       "[5 rows x 23 columns]"
      ]
     },
     "execution_count": 9,
     "metadata": {},
     "output_type": "execute_result"
    }
   ],
   "source": [
    "df.head()"
   ]
  },
  {
   "cell_type": "code",
   "execution_count": 59,
   "metadata": {},
   "outputs": [],
   "source": [
    "df['source']=df['intakereason']"
   ]
  },
  {
   "cell_type": "code",
   "execution_count": 60,
   "metadata": {},
   "outputs": [
    {
     "data": {
      "text/plain": [
       "0                Moving\n",
       "1                Moving\n",
       "2             Abandoned\n",
       "3             Abandoned\n",
       "4          Incompatible\n",
       "5          Incompatible\n",
       "6             Abandoned\n",
       "7             Abandoned\n",
       "8             Abandoned\n",
       "9             Abandoned\n",
       "10            Abandoned\n",
       "11            Abandoned\n",
       "12            Abandoned\n",
       "13            Abandoned\n",
       "14            Abandoned\n",
       "15            Abandoned\n",
       "16            Abandoned\n",
       "17            Abandoned\n",
       "18            Abandoned\n",
       "19            Abandoned\n",
       "20            Abandoned\n",
       "21            Abandoned\n",
       "22            Abandoned\n",
       "23            Abandoned\n",
       "24            Abandoned\n",
       "25            Abandoned\n",
       "26            Abandoned\n",
       "27            Abandoned\n",
       "28            Abandoned\n",
       "29            Abandoned\n",
       "             ...       \n",
       "4101              Stray\n",
       "4102              Stray\n",
       "4103              Stray\n",
       "4104              Stray\n",
       "4105              Stray\n",
       "4106              Stray\n",
       "4107       Incompatible\n",
       "4108              Stray\n",
       "4109              Stray\n",
       "4110              Stray\n",
       "4111      Police Assist\n",
       "4112              Stray\n",
       "4113             Moving\n",
       "4114             Moving\n",
       "4115             Moving\n",
       "4116             Moving\n",
       "4117              Stray\n",
       "4118              Stray\n",
       "4119       Incompatible\n",
       "4120       Incompatible\n",
       "4121              Stray\n",
       "4122       Incompatible\n",
       "4123      Police Assist\n",
       "4124    Landlord issues\n",
       "4125    Landlord issues\n",
       "4126             Moving\n",
       "4127              Stray\n",
       "4128              Stray\n",
       "4129              Stray\n",
       "4130              Stray\n",
       "Name: source, Length: 4131, dtype: object"
      ]
     },
     "execution_count": 60,
     "metadata": {},
     "output_type": "execute_result"
    }
   ],
   "source": [
    "df['source']"
   ]
  },
  {
   "cell_type": "code",
   "execution_count": 79,
   "metadata": {},
   "outputs": [],
   "source": [
    "df['target']=df['movementtype']\n",
    "df['type']= df['speciesname']\n",
    "df['value'] = 1"
   ]
  },
  {
   "cell_type": "code",
   "execution_count": 62,
   "metadata": {},
   "outputs": [
    {
     "data": {
      "text/plain": [
       "2"
      ]
     },
     "execution_count": 62,
     "metadata": {},
     "output_type": "execute_result"
    }
   ],
   "source": [
    "missing_rows = sum(df.source.isna())\n",
    "missing_rows"
   ]
  },
  {
   "cell_type": "code",
   "execution_count": 65,
   "metadata": {},
   "outputs": [
    {
     "data": {
      "text/plain": [
       "0"
      ]
     },
     "execution_count": 65,
     "metadata": {},
     "output_type": "execute_result"
    }
   ],
   "source": [
    "# source had na\n",
    "df = df.dropna(subset=['source'])\n",
    "sum(df['source'].isna())\n",
    "\n"
   ]
  },
  {
   "cell_type": "code",
   "execution_count": 80,
   "metadata": {},
   "outputs": [],
   "source": [
    "sankey_frame = df[['source','target','type','value']]"
   ]
  },
  {
   "cell_type": "code",
   "execution_count": 81,
   "metadata": {},
   "outputs": [
    {
     "data": {
      "text/html": [
       "<div>\n",
       "<style scoped>\n",
       "    .dataframe tbody tr th:only-of-type {\n",
       "        vertical-align: middle;\n",
       "    }\n",
       "\n",
       "    .dataframe tbody tr th {\n",
       "        vertical-align: top;\n",
       "    }\n",
       "\n",
       "    .dataframe thead th {\n",
       "        text-align: right;\n",
       "    }\n",
       "</style>\n",
       "<table border=\"1\" class=\"dataframe\">\n",
       "  <thead>\n",
       "    <tr style=\"text-align: right;\">\n",
       "      <th></th>\n",
       "      <th>source</th>\n",
       "      <th>target</th>\n",
       "      <th>type</th>\n",
       "      <th>value</th>\n",
       "    </tr>\n",
       "  </thead>\n",
       "  <tbody>\n",
       "    <tr>\n",
       "      <th>0</th>\n",
       "      <td>Moving</td>\n",
       "      <td>Adoption</td>\n",
       "      <td>Cat</td>\n",
       "      <td>1</td>\n",
       "    </tr>\n",
       "    <tr>\n",
       "      <th>1</th>\n",
       "      <td>Moving</td>\n",
       "      <td>Adoption</td>\n",
       "      <td>Dog</td>\n",
       "      <td>1</td>\n",
       "    </tr>\n",
       "    <tr>\n",
       "      <th>2</th>\n",
       "      <td>Abandoned</td>\n",
       "      <td>Adoption</td>\n",
       "      <td>Dog</td>\n",
       "      <td>1</td>\n",
       "    </tr>\n",
       "    <tr>\n",
       "      <th>3</th>\n",
       "      <td>Abandoned</td>\n",
       "      <td>Foster</td>\n",
       "      <td>Cat</td>\n",
       "      <td>1</td>\n",
       "    </tr>\n",
       "    <tr>\n",
       "      <th>4</th>\n",
       "      <td>Incompatible</td>\n",
       "      <td>Adoption</td>\n",
       "      <td>Dog</td>\n",
       "      <td>1</td>\n",
       "    </tr>\n",
       "  </tbody>\n",
       "</table>\n",
       "</div>"
      ],
      "text/plain": [
       "         source    target type  value\n",
       "0        Moving  Adoption  Cat      1\n",
       "1        Moving  Adoption  Dog      1\n",
       "2     Abandoned  Adoption  Dog      1\n",
       "3     Abandoned    Foster  Cat      1\n",
       "4  Incompatible  Adoption  Dog      1"
      ]
     },
     "execution_count": 81,
     "metadata": {},
     "output_type": "execute_result"
    }
   ],
   "source": [
    "sankey_frame.head()"
   ]
  },
  {
   "cell_type": "code",
   "execution_count": 74,
   "metadata": {},
   "outputs": [
    {
     "data": {
      "text/plain": [
       "False"
      ]
     },
     "execution_count": 74,
     "metadata": {},
     "output_type": "execute_result"
    }
   ],
   "source": [
    "sankey_frame.isnull().values.any()"
   ]
  },
  {
   "cell_type": "code",
   "execution_count": 90,
   "metadata": {},
   "outputs": [
    {
     "data": {
      "application/vnd.jupyter.widget-view+json": {
       "model_id": "8c0c45e7357e4407a77f9b20d05a0e19",
       "version_major": 2,
       "version_minor": 0
      },
      "text/plain": [
       "A Jupyter Widget"
      ]
     },
     "metadata": {},
     "output_type": "display_data"
    }
   ],
   "source": [
    "SankeyWidget(links=sankey_frame.head().to_dict('records'))\n"
   ]
  },
  {
   "cell_type": "code",
   "execution_count": 91,
   "metadata": {},
   "outputs": [
    {
     "data": {
      "text/plain": [
       "array(['Adoption', 'Foster', 'Transfer', 'Reclaimed', 'None',\n",
       "       'Released To Wild', 'Stolen'], dtype=object)"
      ]
     },
     "execution_count": 91,
     "metadata": {},
     "output_type": "execute_result"
    }
   ],
   "source": [
    "from floweaver import *\n",
    "\n",
    "# Set the default size to fit the documentation better.\n",
    "size = dict(width=570, height=300)\n",
    "df.movementtype.unique()\n"
   ]
  },
  {
   "cell_type": "code",
   "execution_count": 102,
   "metadata": {},
   "outputs": [],
   "source": [
    "nodes = {\n",
    "    'incomingreason': ProcessGroup(sankey_frame.source.unique().tolist()),\n",
    "    'movementtype': ProcessGroup(sankey_frame.target.unique().tolist()),\n",
    "}"
   ]
  },
  {
   "cell_type": "code",
   "execution_count": 103,
   "metadata": {},
   "outputs": [],
   "source": [
    "bundles = [\n",
    "    Bundle('incomingreason', 'movementtype'),\n",
    "]\n",
    "ordering = [\n",
    "    ['incomingreason'],     \n",
    "    ['movementtype']   \n",
    "]"
   ]
  },
  {
   "cell_type": "code",
   "execution_count": 101,
   "metadata": {},
   "outputs": [
    {
     "data": {
      "application/vnd.jupyter.widget-view+json": {
       "model_id": "05e0e8705b5d44dda6834a89aeff03ff",
       "version_major": 2,
       "version_minor": 0
      },
      "text/plain": [
       "A Jupyter Widget"
      ]
     },
     "metadata": {},
     "output_type": "display_data"
    }
   ],
   "source": [
    "sdd = SankeyDefinition(nodes, bundles, ordering)\n",
    "weave(sdd, sankey_frame).to_widget(**size)"
   ]
  },
  {
   "cell_type": "code",
   "execution_count": 107,
   "metadata": {},
   "outputs": [
    {
     "data": {
      "application/vnd.jupyter.widget-view+json": {
       "model_id": "5b293671ecaf44d1a8932478e6038c8d",
       "version_major": 2,
       "version_minor": 0
      },
      "text/plain": [
       "A Jupyter Widget"
      ]
     },
     "metadata": {},
     "output_type": "display_data"
    }
   ],
   "source": [
    "incomingreason_by_type = Partition.Simple('process',\n",
    "                                          sankey_frame.source\n",
    "                                          .unique().tolist())\n",
    "\n",
    "# movement type\n",
    "movementtype_by_name = Partition.Simple('process',\n",
    "                                        sankey_frame.target.unique().tolist())\n",
    "\n",
    "# Update the ProcessGroup nodes to use the partitions\n",
    "nodes['incomingreason'].partition = incomingreason_by_type\n",
    "nodes['movementtype'].partition = movementtype_by_name\n",
    "\n",
    "# New Sankey!\n",
    "weave(sdd, sankey_frame).to_widget(**size)"
   ]
  },
  {
   "cell_type": "code",
   "execution_count": 111,
   "metadata": {},
   "outputs": [
    {
     "data": {
      "text/plain": [
       "Stray                          1929\n",
       "Incompatible                    722\n",
       "Litter relinquishment           270\n",
       "Abandoned                       266\n",
       "Moving                          209\n",
       "Unsuitable Accomodation          99\n",
       "Transfer from Other Shelter      94\n",
       "Police Assist                    78\n",
       "Born in Shelter                  71\n",
       "Owner Deceased                   64\n",
       "Landlord issues                  56\n",
       "Unable to Afford                 55\n",
       "Sick/Injured                     53\n",
       "Allergies                        36\n",
       "Biting                           30\n",
       "Marriage/Relationship split      27\n",
       "Owner Died                       26\n",
       "TNR - Trap/Neuter/Release        17\n",
       "Rabies Monitoring                16\n",
       "Injured Wildlife                  8\n",
       "Owner requested Euthanasia        3\n",
       "Name: source, dtype: int64"
      ]
     },
     "execution_count": 111,
     "metadata": {},
     "output_type": "execute_result"
    }
   ],
   "source": [
    "sankey_frame.source.value_counts()"
   ]
  },
  {
   "cell_type": "code",
   "execution_count": 113,
   "metadata": {},
   "outputs": [
    {
     "data": {
      "text/plain": [
       "['Moving',\n",
       " 'Abandoned',\n",
       " 'Incompatible',\n",
       " 'Rabies Monitoring',\n",
       " 'Marriage/Relationship split',\n",
       " 'Owner Deceased',\n",
       " 'Stray',\n",
       " 'Police Assist',\n",
       " 'Biting',\n",
       " 'Owner Died',\n",
       " 'TNR - Trap/Neuter/Release',\n",
       " 'Unable to Afford',\n",
       " 'Unsuitable Accomodation',\n",
       " 'Injured Wildlife',\n",
       " 'Allergies',\n",
       " 'Transfer from Other Shelter',\n",
       " 'Born in Shelter',\n",
       " 'Sick/Injured',\n",
       " 'Landlord issues',\n",
       " 'Litter relinquishment',\n",
       " 'Owner requested Euthanasia']"
      ]
     },
     "execution_count": 113,
     "metadata": {},
     "output_type": "execute_result"
    }
   ],
   "source": [
    "sankey_frame.source.unique().tolist()"
   ]
  },
  {
   "cell_type": "code",
   "execution_count": 120,
   "metadata": {},
   "outputs": [
    {
     "data": {
      "application/vnd.jupyter.widget-view+json": {
       "model_id": "98bf09fdf022482c9655a3a9f2526277",
       "version_major": 2,
       "version_minor": 0
      },
      "text/plain": [
       "A Jupyter Widget"
      ]
     },
     "metadata": {},
     "output_type": "display_data"
    }
   ],
   "source": [
    "incoming_reasons = Partition.Simple('process', sankey_frame.source.unique().tolist())\n",
    "\n",
    "movementtype = Partition.Simple('process', sankey_frame.target.unique().tolist())\n",
    "\n",
    "# Update the ProcessGroup nodes to use the partitions\n",
    "nodes['incomingreason'].partition = incoming_reasons\n",
    "nodes['movementtype'].partition = movementtype\n",
    "\n",
    "# New Sankey!\n",
    "sdd = SankeyDefinition(nodes, bundles, ordering)\n",
    "weave(sdd, sankey_frame).to_widget(**size)"
   ]
  },
  {
   "cell_type": "code",
   "execution_count": 121,
   "metadata": {},
   "outputs": [
    {
     "data": {
      "text/plain": [
       "Index(['id', 'intakedate', 'intakereason', 'istransfer', 'sheltercode',\n",
       "       'identichipnumber', 'animalname', 'breedname', 'basecolour',\n",
       "       'speciesname', 'animalage', 'sexname', 'location', 'movementdate',\n",
       "       'movementtype', 'istrial', 'returndate', 'returnedreason',\n",
       "       'deceaseddate', 'deceasedreason', 'diedoffshelter', 'puttosleep',\n",
       "       'isdoa', 'source', 'target', 'type', 'value'],\n",
       "      dtype='object')"
      ]
     },
     "execution_count": 121,
     "metadata": {},
     "output_type": "execute_result"
    }
   ],
   "source": [
    "df.columns"
   ]
  },
  {
   "cell_type": "code",
   "execution_count": 127,
   "metadata": {},
   "outputs": [
    {
     "data": {
      "text/plain": [
       "id                     0\n",
       "intakedate             0\n",
       "intakereason           0\n",
       "istransfer             0\n",
       "sheltercode            0\n",
       "identichipnumber     854\n",
       "animalname             0\n",
       "breedname             24\n",
       "basecolour             0\n",
       "speciesname            0\n",
       "animalage              0\n",
       "sexname                0\n",
       "location               0\n",
       "movementdate           1\n",
       "movementtype           0\n",
       "istrial                1\n",
       "returndate          2941\n",
       "returnedreason         0\n",
       "deceaseddate        4022\n",
       "deceasedreason         0\n",
       "diedoffshelter         0\n",
       "puttosleep             0\n",
       "isdoa                  0\n",
       "source                 0\n",
       "target                 0\n",
       "type                   0\n",
       "value                  0\n",
       "dtype: int64"
      ]
     },
     "execution_count": 127,
     "metadata": {},
     "output_type": "execute_result"
    }
   ],
   "source": [
    "def checking_missing_value_count(x):\n",
    "  return sum(x.isnull())\n",
    "\n",
    "df.apply(checking_missing_value_count, axis=0) "
   ]
  },
  {
   "cell_type": "code",
   "execution_count": null,
   "metadata": {},
   "outputs": [],
   "source": []
  }
 ],
 "metadata": {
  "kernelspec": {
   "display_name": "Python 3",
   "language": "python",
   "name": "python3"
  },
  "language_info": {
   "codemirror_mode": {
    "name": "ipython",
    "version": 3
   },
   "file_extension": ".py",
   "mimetype": "text/x-python",
   "name": "python",
   "nbconvert_exporter": "python",
   "pygments_lexer": "ipython3",
   "version": "3.6.3"
  }
 },
 "nbformat": 4,
 "nbformat_minor": 2
}
